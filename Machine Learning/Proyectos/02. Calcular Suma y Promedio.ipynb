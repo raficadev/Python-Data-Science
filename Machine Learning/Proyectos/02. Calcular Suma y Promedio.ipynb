{
 "cells": [
  {
   "cell_type": "markdown",
   "id": "c7a8bacb-e512-4a2c-be94-36d0d594d81b",
   "metadata": {},
   "source": [
    "# Ejercicio de Codificación: Calcular Suma y Promedio de una Lista de Números"
   ]
  },
  {
   "cell_type": "markdown",
   "id": "43c82478-14e0-4691-9d00-317f63e1520b",
   "metadata": {},
   "source": [
    "Desarrolla una función llamada 'calcular_suma_y_promedio' que tome como entrada una lista de números y calcule la suma de todos los números de la lista y el promedio de esos números.\n",
    "\n",
    "La función devolverá un diccionario con los resultados de la suma y el promedio"
   ]
  },
  {
   "cell_type": "code",
   "execution_count": 2,
   "id": "4fdabade-27f0-4a71-b918-d3ecdab5e852",
   "metadata": {},
   "outputs": [
    {
     "name": "stdout",
     "output_type": "stream",
     "text": [
      "Suma: 15\n",
      "Promedio: 3.0\n"
     ]
    }
   ],
   "source": [
    "def calcular_suma_y_promedio(lista_numeros):\n",
    "    suma = sum(lista_numeros)\n",
    "    promedio = suma / len(lista_numeros) if lista_numeros else 0\n",
    "    return {\"suma\": suma, \"promedio\": promedio}\n",
    "\n",
    "# Pruebas\n",
    "numeros = [1, 2, 3, 4, 5]\n",
    "resultado = calcular_suma_y_promedio(numeros)\n",
    "print(\"Suma:\", resultado[\"suma\"])\n",
    "print(\"Promedio:\", resultado[\"promedio\"])"
   ]
  },
  {
   "cell_type": "code",
   "execution_count": null,
   "id": "b0cacc8c-ffeb-4314-92c6-671a354235c5",
   "metadata": {},
   "outputs": [],
   "source": []
  }
 ],
 "metadata": {
  "kernelspec": {
   "display_name": "Python 3 (ipykernel)",
   "language": "python",
   "name": "python3"
  },
  "language_info": {
   "codemirror_mode": {
    "name": "ipython",
    "version": 3
   },
   "file_extension": ".py",
   "mimetype": "text/x-python",
   "name": "python",
   "nbconvert_exporter": "python",
   "pygments_lexer": "ipython3",
   "version": "3.12.4"
  }
 },
 "nbformat": 4,
 "nbformat_minor": 5
}
