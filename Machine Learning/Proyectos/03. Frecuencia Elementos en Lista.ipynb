{
 "cells": [
  {
   "cell_type": "markdown",
   "id": "718dd153-eba0-4451-ad45-d5d83b92c65e",
   "metadata": {},
   "source": [
    "# Ejercicio de Codificación: Frecuencia de Elementos en una Lista"
   ]
  },
  {
   "cell_type": "markdown",
   "id": "7cab1ea4-8fa8-47d6-8255-42029fbb68fc",
   "metadata": {},
   "source": [
    "Crear una función denominada 'contar_frecuencia' que tome una lista de números y calcule las veces (frecuencia) que aparece cada número en la lista y devuelva los resultados en forma de diccionario, donde cada clave será cada número distinto de la lista y cada valor será el número de veces que aparece ese número en la lista."
   ]
  },
  {
   "cell_type": "code",
   "execution_count": 1,
   "id": "2737159c-b195-4dd2-a73c-7e81b92a9c25",
   "metadata": {},
   "outputs": [
    {
     "name": "stdout",
     "output_type": "stream",
     "text": [
      "{1: 2, 2: 3, 3: 1, 4: 2, 5: 1}\n"
     ]
    }
   ],
   "source": [
    "def contar_frecuencia(lista):\n",
    "    frecuencia = {}\n",
    "    for numero in lista:\n",
    "        if numero in frecuencia:\n",
    "            frecuencia[numero] += 1\n",
    "        else:\n",
    "            frecuencia[numero] = 1\n",
    "    return frecuencia\n",
    "\n",
    "# Ejemplo de uso\n",
    "elementos = [1, 2, 2, 3, 1, 2, 4, 5, 4]\n",
    "resultado = contar_frecuencia(elementos)\n",
    "print(resultado)"
   ]
  },
  {
   "cell_type": "code",
   "execution_count": null,
   "id": "61fcfd7c-d817-4f5d-9a5c-5bddd10d6735",
   "metadata": {},
   "outputs": [],
   "source": []
  }
 ],
 "metadata": {
  "kernelspec": {
   "display_name": "Python 3 (ipykernel)",
   "language": "python",
   "name": "python3"
  },
  "language_info": {
   "codemirror_mode": {
    "name": "ipython",
    "version": 3
   },
   "file_extension": ".py",
   "mimetype": "text/x-python",
   "name": "python",
   "nbconvert_exporter": "python",
   "pygments_lexer": "ipython3",
   "version": "3.12.4"
  }
 },
 "nbformat": 4,
 "nbformat_minor": 5
}
