{
 "cells": [
  {
   "cell_type": "markdown",
   "id": "a1047aee-b438-4342-b621-ef91af51f35f",
   "metadata": {},
   "source": [
    "# Ejercicio de Codificación: Aplicar una Función y Filtrar Elementos en una Lista"
   ]
  },
  {
   "cell_type": "markdown",
   "id": "ee26ca0b-93d9-434a-89b1-66ffc822287e",
   "metadata": {},
   "source": [
    "La función recibirá como parámetros una lista de números y un valor_umbral y devolverá la lista de números cuyos cuadrados sean mayores que el valor_umbral, utilizando para ello las funciones lambda, map, filter y list."
   ]
  },
  {
   "cell_type": "code",
   "execution_count": 1,
   "id": "d1a89b9e-8ce2-4743-b819-3945e8b211d4",
   "metadata": {},
   "outputs": [
    {
     "name": "stdout",
     "output_type": "stream",
     "text": [
      "[4, 9, 16, 25]\n"
     ]
    }
   ],
   "source": [
    "def aplicar_funcion_y_filtrar(lista, valor_umbral):\n",
    "    # Aplica la función lambda para calcular el cuadrado de cada número en la lista\n",
    "    cuadrados = list(map(lambda x: x ** 2, lista))\n",
    "    \n",
    "    # Filtra los números cuyo cuadrado sea mayor que el valor_umbral\n",
    "    resultado = list(filter(lambda x: x > valor_umbral, cuadrados))\n",
    "    \n",
    "    return resultado\n",
    "\n",
    "# Ejemplo de uso\n",
    "numeros = [1, 2, 3, 4, 5]\n",
    "valor_umbral = 3\n",
    "resultado = aplicar_funcion_y_filtrar(numeros, valor_umbral)\n",
    "print(resultado)"
   ]
  },
  {
   "cell_type": "code",
   "execution_count": null,
   "id": "03602315-a8b5-4bf5-97eb-cc4522a8faba",
   "metadata": {},
   "outputs": [],
   "source": []
  }
 ],
 "metadata": {
  "kernelspec": {
   "display_name": "Python 3 (ipykernel)",
   "language": "python",
   "name": "python3"
  },
  "language_info": {
   "codemirror_mode": {
    "name": "ipython",
    "version": 3
   },
   "file_extension": ".py",
   "mimetype": "text/x-python",
   "name": "python",
   "nbconvert_exporter": "python",
   "pygments_lexer": "ipython3",
   "version": "3.12.4"
  }
 },
 "nbformat": 4,
 "nbformat_minor": 5
}
