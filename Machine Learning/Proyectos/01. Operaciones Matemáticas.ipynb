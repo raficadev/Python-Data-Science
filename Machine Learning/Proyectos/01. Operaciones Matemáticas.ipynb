{
 "cells": [
  {
   "cell_type": "markdown",
   "id": "3b863b20-d986-45f0-9263-aebcfe4f2904",
   "metadata": {},
   "source": [
    "# Ejercicio de Codificación: Operaciones Matemáticas"
   ]
  },
  {
   "cell_type": "markdown",
   "id": "51a57087-51a4-46a8-9dcc-02cc632a4b28",
   "metadata": {},
   "source": [
    "Crear una función que reciba 2 números como parámetros y que devuelva la suma, resta, multiplicación, división y resto de las operaciones entre ambos números"
   ]
  },
  {
   "cell_type": "code",
   "execution_count": 6,
   "id": "59aa0680-7513-4061-aba8-5b038b70632f",
   "metadata": {},
   "outputs": [
    {
     "name": "stdout",
     "output_type": "stream",
     "text": [
      "Suma: 13\n",
      "Resta: 7\n",
      "Multiplicación: 30\n",
      "División: 3.3333333333333335\n",
      "Residuo: 1\n"
     ]
    }
   ],
   "source": [
    "def operaciones_matematicas(a, b):\n",
    "    suma = a + b\n",
    "    resta = a - b\n",
    "    multiplicacion = a * b\n",
    "    division = a / b\n",
    "    residuo = a % b\n",
    "    \n",
    "    return suma, resta, multiplicacion, division, residuo\n",
    "\n",
    "# Prueba la función con valores específicos\n",
    "a = 10\n",
    "b = 3\n",
    " \n",
    "resultado = operaciones_matematicas(a, b)\n",
    "print(\"Suma:\", resultado[0])\n",
    "print(\"Resta:\", resultado[1])\n",
    "print(\"Multiplicación:\", resultado[2])\n",
    "print(\"División:\", resultado[3])\n",
    "print(\"Residuo:\", resultado[4])"
   ]
  },
  {
   "cell_type": "code",
   "execution_count": null,
   "id": "171d1b95-ef32-4524-b5b1-2bd20044765b",
   "metadata": {},
   "outputs": [],
   "source": []
  }
 ],
 "metadata": {
  "kernelspec": {
   "display_name": "Python 3 (ipykernel)",
   "language": "python",
   "name": "python3"
  },
  "language_info": {
   "codemirror_mode": {
    "name": "ipython",
    "version": 3
   },
   "file_extension": ".py",
   "mimetype": "text/x-python",
   "name": "python",
   "nbconvert_exporter": "python",
   "pygments_lexer": "ipython3",
   "version": "3.12.4"
  }
 },
 "nbformat": 4,
 "nbformat_minor": 5
}
