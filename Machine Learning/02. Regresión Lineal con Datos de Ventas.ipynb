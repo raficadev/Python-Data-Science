{
 "cells": [
  {
   "cell_type": "markdown",
   "id": "6485bb49-ef19-4e94-87b7-7bac82d7fc34",
   "metadata": {},
   "source": [
    "# Regresión Lineal con Datos de Ventas"
   ]
  },
  {
   "cell_type": "markdown",
   "id": "64f9f74c-fd77-4a31-938f-8ccedad9d51b",
   "metadata": {},
   "source": [
    "Supongamos que tienes un conjunto de datos que contiene información sobre las ventas de una tienda y la cantidad de dinero que se gastó en publicidad en diferentes medios (por ejemplo, televisión, radio y periódico).\n",
    "\n",
    "Tu tarea es desarrollar una función llamada regresion_ventas que tome estos datos como entrada y ajuste un modelo de regresión lineal para predecir las futuras ventas en función de la inversión en publicidad."
   ]
  },
  {
   "cell_type": "code",
   "execution_count": 1,
   "id": "cda695d2-2b77-4d5e-92c1-8cfcccc76ca6",
   "metadata": {},
   "outputs": [
    {
     "name": "stdout",
     "output_type": "stream",
     "text": [
      "Estimaciones de Ventas:\n",
      "[21.54261464  8.48121675  4.16961329]\n"
     ]
    }
   ],
   "source": [
    "import pandas as pd\n",
    "from sklearn.linear_model import LinearRegression\n",
    "\n",
    "def regresion_ventas(datos):\n",
    "    # Definir las variables independientes (inversiones en publicidad)\n",
    "    X = datos[['TV', 'Radio', 'Periodico']]\n",
    "    # Definir la variable dependiente (ventas)\n",
    "    y = datos['Ventas']\n",
    "    \n",
    "    # Crear el modelo de regresión lineal\n",
    "    modelo = LinearRegression()\n",
    "    \n",
    "    # Ajustar el modelo con los datos\n",
    "    modelo.fit(X, y)\n",
    "    \n",
    "    # Devolver el modelo ajustado\n",
    "    return modelo\n",
    "\n",
    "# Ejemplo de uso con datos reales\n",
    "data = {\n",
    "    'TV': [230.1, 44.5, 17.2, 151.5, 180.8],\n",
    "    'Radio': [37.8, 39.3, 45.9, 41.3, 10.8],\n",
    "    'Periodico': [69.2, 45.1, 69.3, 58.5, 58.4],\n",
    "    'Ventas': [22.1, 10.4, 9.3, 18.5, 12.9]\n",
    "}\n",
    "df = pd.DataFrame(data)\n",
    "modelo_regresion = regresion_ventas(df)\n",
    "\n",
    "# Estimaciones de ventas para nuevos datos de inversión en publicidad\n",
    "nuevos_datos = pd.DataFrame({'TV': [200, 60, 30], 'Radio': [40, 20, 10], 'Periodico': [50, 10, 5]})\n",
    "estimaciones_ventas = modelo_regresion.predict(nuevos_datos)\n",
    "\n",
    "print(\"Estimaciones de Ventas:\")\n",
    "print(estimaciones_ventas)"
   ]
  },
  {
   "cell_type": "code",
   "execution_count": null,
   "id": "d95ceb4c-5361-4f08-9b23-19f0a5c52aaa",
   "metadata": {},
   "outputs": [],
   "source": []
  }
 ],
 "metadata": {
  "kernelspec": {
   "display_name": "Python 3 (ipykernel)",
   "language": "python",
   "name": "python3"
  },
  "language_info": {
   "codemirror_mode": {
    "name": "ipython",
    "version": 3
   },
   "file_extension": ".py",
   "mimetype": "text/x-python",
   "name": "python",
   "nbconvert_exporter": "python",
   "pygments_lexer": "ipython3",
   "version": "3.12.4"
  }
 },
 "nbformat": 4,
 "nbformat_minor": 5
}
