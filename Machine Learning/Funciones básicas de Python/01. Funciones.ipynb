{
 "cells": [
  {
   "cell_type": "markdown",
   "id": "40bea655-29d8-46ea-96f7-8b8159e23224",
   "metadata": {},
   "source": [
    "# Funciones"
   ]
  },
  {
   "cell_type": "code",
   "execution_count": 1,
   "id": "8415de2f-0d37-4760-b6fe-7b8420dd0d63",
   "metadata": {},
   "outputs": [],
   "source": [
    "# Para crear funciónes utilizamos la siguiente estructura\n",
    "def funcion():\n",
    "    print(\"Hola, Python\")"
   ]
  },
  {
   "cell_type": "code",
   "execution_count": 2,
   "id": "b6dc7a62-bc5d-4ffc-9096-7baf87e57274",
   "metadata": {},
   "outputs": [
    {
     "name": "stdout",
     "output_type": "stream",
     "text": [
      "Hola, Python\n"
     ]
    }
   ],
   "source": [
    "# Invocar la función\n",
    "funcion()"
   ]
  },
  {
   "cell_type": "code",
   "execution_count": 3,
   "id": "fd20bc0a-d2b7-429a-95a9-d1bbc2d7defa",
   "metadata": {},
   "outputs": [],
   "source": [
    "# Añadir parámetros a la función\n",
    "def saludar(nombre):\n",
    "    print(\"Hola, buenos días \" + nombre)"
   ]
  },
  {
   "cell_type": "code",
   "execution_count": 4,
   "id": "3fad0908-5a44-4397-a546-2a3dbe563007",
   "metadata": {},
   "outputs": [
    {
     "name": "stdout",
     "output_type": "stream",
     "text": [
      "Hola, buenos días Juan\n"
     ]
    }
   ],
   "source": [
    "saludar(\"Juan\")"
   ]
  },
  {
   "cell_type": "code",
   "execution_count": 10,
   "id": "38a6e5c2-ac02-4d4a-8280-2763c38566b9",
   "metadata": {},
   "outputs": [],
   "source": [
    "# Añadir comentarios a la función\n",
    "def sumar(numero1, numero2):\n",
    "    \"\"\"\n",
    "    Esto es un comentario de la función sumar\n",
    "    Esta función suma los dos números pasados como parámetros\n",
    "    Ejemplo: sumar(4, 8)\n",
    "    \"\"\"\n",
    "    resultado = numero1 + numero2\n",
    "    return resultado"
   ]
  },
  {
   "cell_type": "code",
   "execution_count": 8,
   "id": "c335ef9b-e594-43e5-97df-5e2dd29f2f8b",
   "metadata": {},
   "outputs": [
    {
     "data": {
      "text/plain": [
       "12"
      ]
     },
     "execution_count": 8,
     "metadata": {},
     "output_type": "execute_result"
    }
   ],
   "source": [
    "sumar(4, 8)"
   ]
  },
  {
   "cell_type": "code",
   "execution_count": 11,
   "id": "e4ee91df-0987-4d35-9b16-10760847eb20",
   "metadata": {},
   "outputs": [
    {
     "data": {
      "text/plain": [
       "<function print(*args, sep=' ', end='\\n', file=None, flush=False)>"
      ]
     },
     "execution_count": 11,
     "metadata": {},
     "output_type": "execute_result"
    }
   ],
   "source": [
    "# Para consultar la información de la función\n",
    "# pulsamos shift + tab\n",
    "sumar\n",
    "\n",
    "# También podemos consultar funciones ya existentes\n",
    "print"
   ]
  },
  {
   "cell_type": "code",
   "execution_count": null,
   "id": "032445f1-2d99-44c3-82d7-403cb54443be",
   "metadata": {},
   "outputs": [],
   "source": []
  }
 ],
 "metadata": {
  "kernelspec": {
   "display_name": "Python 3 (ipykernel)",
   "language": "python",
   "name": "python3"
  },
  "language_info": {
   "codemirror_mode": {
    "name": "ipython",
    "version": 3
   },
   "file_extension": ".py",
   "mimetype": "text/x-python",
   "name": "python",
   "nbconvert_exporter": "python",
   "pygments_lexer": "ipython3",
   "version": "3.12.4"
  }
 },
 "nbformat": 4,
 "nbformat_minor": 5
}
