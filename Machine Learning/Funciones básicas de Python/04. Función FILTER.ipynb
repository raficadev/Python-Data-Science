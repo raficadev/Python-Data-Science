{
 "cells": [
  {
   "cell_type": "markdown",
   "id": "3f495c2d-6aa3-497d-96f9-bd27a82ee219",
   "metadata": {},
   "source": [
    "# Función filter"
   ]
  },
  {
   "cell_type": "code",
   "execution_count": 1,
   "id": "34e8bc47-2c76-4f96-81c7-0be977826e75",
   "metadata": {},
   "outputs": [],
   "source": [
    "def pares(numero):\n",
    "    if (numero % 2 == 0):\n",
    "        return numero"
   ]
  },
  {
   "cell_type": "code",
   "execution_count": 2,
   "id": "a4185603-63c9-44b6-93da-598ec88a3cf8",
   "metadata": {},
   "outputs": [],
   "source": [
    "pares(5)"
   ]
  },
  {
   "cell_type": "code",
   "execution_count": 3,
   "id": "61a16d65-ab81-4fae-81d8-404f8db98e49",
   "metadata": {},
   "outputs": [
    {
     "data": {
      "text/plain": [
       "4"
      ]
     },
     "execution_count": 3,
     "metadata": {},
     "output_type": "execute_result"
    }
   ],
   "source": [
    "pares(4)"
   ]
  },
  {
   "cell_type": "code",
   "execution_count": 6,
   "id": "08bb1a96-1460-4afe-af81-b7c4097e7313",
   "metadata": {},
   "outputs": [
    {
     "name": "stdout",
     "output_type": "stream",
     "text": [
      "[2, 4, 6, 8]\n"
     ]
    }
   ],
   "source": [
    "# Filtramos la lista para crear una con solo número pares utilizando la función pares\n",
    "lista1 = [1, 2, 3, 4, 5, 6, 7, 8]\n",
    "lista_pares = list(filter(pares, lista1))\n",
    "print(lista_pares)"
   ]
  },
  {
   "cell_type": "code",
   "execution_count": 7,
   "id": "2f53bac7-c237-46f4-ab8d-a0f6b25109a1",
   "metadata": {},
   "outputs": [
    {
     "name": "stdout",
     "output_type": "stream",
     "text": [
      "[2, 4, 6, 8]\n"
     ]
    }
   ],
   "source": [
    "# Utilizando la función lambda\n",
    "lista1 = [1, 2, 3, 4, 5, 6, 7, 8]\n",
    "lista_pares2 = list(filter(lambda numero: numero%2 == 0, lista1))\n",
    "print(lista_pares2)"
   ]
  },
  {
   "cell_type": "code",
   "execution_count": null,
   "id": "6da5b694-5d28-4a97-a1d8-c79c9703e61b",
   "metadata": {},
   "outputs": [],
   "source": []
  }
 ],
 "metadata": {
  "kernelspec": {
   "display_name": "Python 3 (ipykernel)",
   "language": "python",
   "name": "python3"
  },
  "language_info": {
   "codemirror_mode": {
    "name": "ipython",
    "version": 3
   },
   "file_extension": ".py",
   "mimetype": "text/x-python",
   "name": "python",
   "nbconvert_exporter": "python",
   "pygments_lexer": "ipython3",
   "version": "3.12.4"
  }
 },
 "nbformat": 4,
 "nbformat_minor": 5
}
