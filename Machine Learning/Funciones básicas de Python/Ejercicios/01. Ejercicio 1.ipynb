{
 "cells": [
  {
   "cell_type": "markdown",
   "id": "34680fa9-28e8-47e9-bcdd-cab52376f1b8",
   "metadata": {},
   "source": [
    "# Ejercicio 1"
   ]
  },
  {
   "cell_type": "code",
   "execution_count": 2,
   "id": "2eb2d18c-626d-47ea-8138-47a1c10c1b65",
   "metadata": {},
   "outputs": [],
   "source": [
    "# Dividir la frase en palabras y contar el número de palabras que contiene la frase\n",
    "frase = \"Hola, este es un curso básico de Python\""
   ]
  },
  {
   "cell_type": "code",
   "execution_count": 5,
   "id": "25b7e933-e951-4ba0-bfa7-4b897fb8fed3",
   "metadata": {},
   "outputs": [
    {
     "name": "stdout",
     "output_type": "stream",
     "text": [
      "['Hola,', 'este', 'es', 'un', 'curso', 'básico', 'de', 'Python']\n"
     ]
    }
   ],
   "source": [
    "palabras = frase.split()\n",
    "print(palabras)"
   ]
  },
  {
   "cell_type": "code",
   "execution_count": 13,
   "id": "190fc3e3-2072-4ce3-adfa-9eacae321d20",
   "metadata": {},
   "outputs": [
    {
     "name": "stdout",
     "output_type": "stream",
     "text": [
      "El número de palabras es 8\n"
     ]
    }
   ],
   "source": [
    "numero = 0\n",
    "for palabra in palabras:\n",
    "    numero = numero + 1\n",
    "print(\"El número de palabras es {}\".format(numero))"
   ]
  },
  {
   "cell_type": "code",
   "execution_count": null,
   "id": "090ece43-7365-427e-aad3-9b90139ea0f7",
   "metadata": {},
   "outputs": [],
   "source": []
  }
 ],
 "metadata": {
  "kernelspec": {
   "display_name": "Python 3 (ipykernel)",
   "language": "python",
   "name": "python3"
  },
  "language_info": {
   "codemirror_mode": {
    "name": "ipython",
    "version": 3
   },
   "file_extension": ".py",
   "mimetype": "text/x-python",
   "name": "python",
   "nbconvert_exporter": "python",
   "pygments_lexer": "ipython3",
   "version": "3.12.4"
  }
 },
 "nbformat": 4,
 "nbformat_minor": 5
}
