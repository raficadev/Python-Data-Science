{
 "cells": [
  {
   "cell_type": "markdown",
   "id": "67efc260-8d5f-4056-a429-d3115ba5070c",
   "metadata": {},
   "source": [
    "# Ejercicio 2: Número Positivo"
   ]
  },
  {
   "cell_type": "code",
   "execution_count": 1,
   "id": "d92e1328-3a77-4f9d-9c47-82a372617cde",
   "metadata": {},
   "outputs": [],
   "source": [
    "# Crea una función \"positivo\" que pasando como parámetro un numero, lo devuelva si es positivo o no lo devuelva si es negativo\n",
    "lista = [1, -1, 4, -15, 9, 7 , 6, -3, 2, -20]"
   ]
  },
  {
   "cell_type": "code",
   "execution_count": 2,
   "id": "6af70e3c-fb37-4fee-8021-eda096919b85",
   "metadata": {},
   "outputs": [],
   "source": [
    "def positivo(numero):\n",
    "    if (numero >= 0):\n",
    "        return numero"
   ]
  },
  {
   "cell_type": "code",
   "execution_count": 3,
   "id": "6a3b3e54-c957-47bc-b55c-f4d07a666b06",
   "metadata": {},
   "outputs": [],
   "source": [
    "# Crea una nueva lista que mediante filter contenga solo los números positivos"
   ]
  },
  {
   "cell_type": "code",
   "execution_count": 4,
   "id": "f96836df-2bbd-4542-8396-4d67205ff9a7",
   "metadata": {},
   "outputs": [
    {
     "name": "stdout",
     "output_type": "stream",
     "text": [
      "[1, 4, 9, 7, 6, 2]\n"
     ]
    }
   ],
   "source": [
    "lista2 = list(filter(positivo, lista))\n",
    "print(lista2)"
   ]
  },
  {
   "cell_type": "code",
   "execution_count": null,
   "id": "fa9dbc35-58de-4966-860f-fe5d5aabcf36",
   "metadata": {},
   "outputs": [],
   "source": []
  }
 ],
 "metadata": {
  "kernelspec": {
   "display_name": "Python 3 (ipykernel)",
   "language": "python",
   "name": "python3"
  },
  "language_info": {
   "codemirror_mode": {
    "name": "ipython",
    "version": 3
   },
   "file_extension": ".py",
   "mimetype": "text/x-python",
   "name": "python",
   "nbconvert_exporter": "python",
   "pygments_lexer": "ipython3",
   "version": "3.12.4"
  }
 },
 "nbformat": 4,
 "nbformat_minor": 5
}
