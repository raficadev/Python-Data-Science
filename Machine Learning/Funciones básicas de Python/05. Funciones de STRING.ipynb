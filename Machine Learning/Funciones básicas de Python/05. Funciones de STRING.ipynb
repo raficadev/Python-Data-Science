{
 "cells": [
  {
   "cell_type": "markdown",
   "id": "0ead32e8-3358-4d9c-9bd1-aca7367cfe31",
   "metadata": {},
   "source": [
    "# Funciones de cadenas de caracteres"
   ]
  },
  {
   "cell_type": "code",
   "execution_count": 5,
   "id": "a24ed9de-a204-4fd2-a412-16cbbd2d87a5",
   "metadata": {},
   "outputs": [
    {
     "name": "stdout",
     "output_type": "stream",
     "text": [
      "Hola, buenos días, me llamo Antonio\n"
     ]
    }
   ],
   "source": [
    "cadena = \"Hola, buenos días, me llamo Antonio\"\n",
    "print(cadena)"
   ]
  },
  {
   "cell_type": "code",
   "execution_count": 6,
   "id": "07d0ea35-9144-4b47-805e-0555aee20bcb",
   "metadata": {},
   "outputs": [
    {
     "name": "stdout",
     "output_type": "stream",
     "text": [
      "HOLA, BUENOS DÍAS, ME LLAMO ANTONIO\n"
     ]
    }
   ],
   "source": [
    "cadena_mayusculas = cadena.upper()\n",
    "print(cadena_mayusculas)"
   ]
  },
  {
   "cell_type": "code",
   "execution_count": 7,
   "id": "ad6f95a4-a4de-4fde-b530-174fb4c28cde",
   "metadata": {},
   "outputs": [
    {
     "name": "stdout",
     "output_type": "stream",
     "text": [
      "hola, buenos días, me llamo antonio\n"
     ]
    }
   ],
   "source": [
    "cadena_minusculas = cadena.lower()\n",
    "print(cadena_minusculas)"
   ]
  },
  {
   "cell_type": "code",
   "execution_count": 8,
   "id": "4e3010f0-ca79-4c01-a6e7-1ab3bc231a19",
   "metadata": {},
   "outputs": [
    {
     "name": "stdout",
     "output_type": "stream",
     "text": [
      "['Hola,', 'buenos', 'días,', 'me', 'llamo', 'Antonio']\n"
     ]
    }
   ],
   "source": [
    "cadena_lista = cadena.split()\n",
    "print(cadena_lista)"
   ]
  },
  {
   "cell_type": "code",
   "execution_count": null,
   "id": "7cfabcf0-9f3b-4758-82c2-a07d100cd834",
   "metadata": {},
   "outputs": [],
   "source": []
  }
 ],
 "metadata": {
  "kernelspec": {
   "display_name": "Python 3 (ipykernel)",
   "language": "python",
   "name": "python3"
  },
  "language_info": {
   "codemirror_mode": {
    "name": "ipython",
    "version": 3
   },
   "file_extension": ".py",
   "mimetype": "text/x-python",
   "name": "python",
   "nbconvert_exporter": "python",
   "pygments_lexer": "ipython3",
   "version": "3.12.4"
  }
 },
 "nbformat": 4,
 "nbformat_minor": 5
}
