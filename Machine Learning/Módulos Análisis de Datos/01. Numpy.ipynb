{
 "cells": [
  {
   "cell_type": "markdown",
   "id": "8a0d3368-51cf-4533-acec-0b45f414a90f",
   "metadata": {},
   "source": [
    "# Numpy arrays"
   ]
  },
  {
   "cell_type": "code",
   "execution_count": 2,
   "id": "8846dbd7-bfdb-4056-9fea-b81a5b044229",
   "metadata": {},
   "outputs": [],
   "source": [
    "import numpy as np"
   ]
  },
  {
   "cell_type": "code",
   "execution_count": 3,
   "id": "33760b33-9157-44f5-847e-6bb52ac6bd38",
   "metadata": {},
   "outputs": [],
   "source": [
    "lista = [1, 2, 3, 4]"
   ]
  },
  {
   "cell_type": "code",
   "execution_count": 4,
   "id": "076acd13-2ef7-4e21-8e3f-b98eda0d4910",
   "metadata": {},
   "outputs": [],
   "source": [
    "# array de una dimensión (vector)\n",
    "array = np.array(lista)"
   ]
  },
  {
   "cell_type": "code",
   "execution_count": 5,
   "id": "49b60498-e6e5-43ce-b0d1-57f2cbecbcd3",
   "metadata": {},
   "outputs": [
    {
     "data": {
      "text/plain": [
       "array([1, 2, 3, 4])"
      ]
     },
     "execution_count": 5,
     "metadata": {},
     "output_type": "execute_result"
    }
   ],
   "source": [
    "array"
   ]
  },
  {
   "cell_type": "code",
   "execution_count": 6,
   "id": "d70d7b58-3b60-46fd-8100-0b440f79d38f",
   "metadata": {},
   "outputs": [],
   "source": [
    "lista2 = [[1, 2, 3], [4, 5, 6], [7, 8, 9]]"
   ]
  },
  {
   "cell_type": "code",
   "execution_count": 7,
   "id": "492b7311-d89a-4974-a272-0eb8bd27aaaf",
   "metadata": {},
   "outputs": [],
   "source": [
    "# array de dos dimensiones (matriz)\n",
    "array2 = np.array(lista2)"
   ]
  },
  {
   "cell_type": "code",
   "execution_count": 8,
   "id": "8c06bc40-75da-4a9c-bcea-afe7daed5b44",
   "metadata": {},
   "outputs": [
    {
     "data": {
      "text/plain": [
       "array([[1, 2, 3],\n",
       "       [4, 5, 6],\n",
       "       [7, 8, 9]])"
      ]
     },
     "execution_count": 8,
     "metadata": {},
     "output_type": "execute_result"
    }
   ],
   "source": [
    "array2"
   ]
  },
  {
   "cell_type": "markdown",
   "id": "8937af92-5142-4a45-9b39-8db076fb71c9",
   "metadata": {},
   "source": [
    "# Numpy arrays - arange, zeros, ones, linspace, eye"
   ]
  },
  {
   "cell_type": "code",
   "execution_count": 9,
   "id": "a2cbb493-d654-4ae4-a13b-ead47182beb6",
   "metadata": {},
   "outputs": [],
   "source": [
    "import numpy as np"
   ]
  },
  {
   "cell_type": "code",
   "execution_count": 11,
   "id": "1c8e2645-533f-4100-8e72-7d79696e0794",
   "metadata": {},
   "outputs": [],
   "source": [
    "array = np.arange(5)"
   ]
  },
  {
   "cell_type": "code",
   "execution_count": 12,
   "id": "76825839-7201-4f43-94a7-686d7d8187d3",
   "metadata": {},
   "outputs": [
    {
     "data": {
      "text/plain": [
       "array([0, 1, 2, 3, 4])"
      ]
     },
     "execution_count": 12,
     "metadata": {},
     "output_type": "execute_result"
    }
   ],
   "source": [
    "array"
   ]
  },
  {
   "cell_type": "code",
   "execution_count": 13,
   "id": "270f2b99-5d6f-4933-b0aa-c2770f974d35",
   "metadata": {},
   "outputs": [
    {
     "data": {
      "text/plain": [
       "array([2, 3, 4, 5, 6, 7, 8, 9])"
      ]
     },
     "execution_count": 13,
     "metadata": {},
     "output_type": "execute_result"
    }
   ],
   "source": [
    "np.arange(2, 10)"
   ]
  },
  {
   "cell_type": "code",
   "execution_count": 14,
   "id": "096f6dbe-ec7f-4090-8ac0-980c6700cd0b",
   "metadata": {},
   "outputs": [
    {
     "data": {
      "text/plain": [
       "array([2, 4, 6, 8])"
      ]
     },
     "execution_count": 14,
     "metadata": {},
     "output_type": "execute_result"
    }
   ],
   "source": [
    "np.arange(2, 10, 2)"
   ]
  },
  {
   "cell_type": "code",
   "execution_count": 15,
   "id": "6ab8afd3-4663-4e7b-9f01-2ee1b6c75051",
   "metadata": {},
   "outputs": [
    {
     "data": {
      "text/plain": [
       "array([0., 0., 0.])"
      ]
     },
     "execution_count": 15,
     "metadata": {},
     "output_type": "execute_result"
    }
   ],
   "source": [
    "np.zeros(3)"
   ]
  },
  {
   "cell_type": "code",
   "execution_count": 18,
   "id": "c2a9211f-71e3-438d-b4c5-5506f7f9cabd",
   "metadata": {},
   "outputs": [
    {
     "data": {
      "text/plain": [
       "array([[0., 0., 0., 0.],\n",
       "       [0., 0., 0., 0.],\n",
       "       [0., 0., 0., 0.]])"
      ]
     },
     "execution_count": 18,
     "metadata": {},
     "output_type": "execute_result"
    }
   ],
   "source": [
    "np.zeros((3, 4))"
   ]
  },
  {
   "cell_type": "code",
   "execution_count": 19,
   "id": "7ca88c95-b754-4d2a-ae0c-fdf3bb376f06",
   "metadata": {},
   "outputs": [
    {
     "data": {
      "text/plain": [
       "array([1., 1., 1.])"
      ]
     },
     "execution_count": 19,
     "metadata": {},
     "output_type": "execute_result"
    }
   ],
   "source": [
    "np.ones(3)"
   ]
  },
  {
   "cell_type": "code",
   "execution_count": 20,
   "id": "f94b623b-d577-473a-801c-95b1a3e4a8cf",
   "metadata": {},
   "outputs": [
    {
     "data": {
      "text/plain": [
       "array([[1., 1., 1., 1.],\n",
       "       [1., 1., 1., 1.],\n",
       "       [1., 1., 1., 1.]])"
      ]
     },
     "execution_count": 20,
     "metadata": {},
     "output_type": "execute_result"
    }
   ],
   "source": [
    "np.ones((3, 4))"
   ]
  },
  {
   "cell_type": "code",
   "execution_count": 22,
   "id": "f78d42b6-848d-482b-8179-402159f21b02",
   "metadata": {},
   "outputs": [
    {
     "data": {
      "text/plain": [
       "array([5.        , 5.06122449, 5.12244898, 5.18367347, 5.24489796,\n",
       "       5.30612245, 5.36734694, 5.42857143, 5.48979592, 5.55102041,\n",
       "       5.6122449 , 5.67346939, 5.73469388, 5.79591837, 5.85714286,\n",
       "       5.91836735, 5.97959184, 6.04081633, 6.10204082, 6.16326531,\n",
       "       6.2244898 , 6.28571429, 6.34693878, 6.40816327, 6.46938776,\n",
       "       6.53061224, 6.59183673, 6.65306122, 6.71428571, 6.7755102 ,\n",
       "       6.83673469, 6.89795918, 6.95918367, 7.02040816, 7.08163265,\n",
       "       7.14285714, 7.20408163, 7.26530612, 7.32653061, 7.3877551 ,\n",
       "       7.44897959, 7.51020408, 7.57142857, 7.63265306, 7.69387755,\n",
       "       7.75510204, 7.81632653, 7.87755102, 7.93877551, 8.        ])"
      ]
     },
     "execution_count": 22,
     "metadata": {},
     "output_type": "execute_result"
    }
   ],
   "source": [
    "np.linspace(5, 8, 50)"
   ]
  },
  {
   "cell_type": "code",
   "execution_count": 23,
   "id": "58c939bd-1801-4310-bc36-6d1a5480667b",
   "metadata": {},
   "outputs": [
    {
     "data": {
      "text/plain": [
       "array([[1., 0., 0., 0., 0.],\n",
       "       [0., 1., 0., 0., 0.],\n",
       "       [0., 0., 1., 0., 0.],\n",
       "       [0., 0., 0., 1., 0.],\n",
       "       [0., 0., 0., 0., 1.]])"
      ]
     },
     "execution_count": 23,
     "metadata": {},
     "output_type": "execute_result"
    }
   ],
   "source": [
    "np.eye(5)"
   ]
  },
  {
   "cell_type": "markdown",
   "id": "bd7eb57a-7166-4d10-9456-f94b754e6232",
   "metadata": {},
   "source": [
    "# Numpy arrays - Números aleatorios - rand y randn"
   ]
  },
  {
   "cell_type": "code",
   "execution_count": 24,
   "id": "565d8c88-740a-4ce5-92f4-24351fde574a",
   "metadata": {},
   "outputs": [],
   "source": [
    "import numpy as np"
   ]
  },
  {
   "cell_type": "code",
   "execution_count": 26,
   "id": "a6aaccd7-58dd-4d26-ae8d-01e7bad84893",
   "metadata": {},
   "outputs": [
    {
     "data": {
      "text/plain": [
       "array([0.32889771, 0.47485273, 0.25292723, 0.73533667, 0.49501661])"
      ]
     },
     "execution_count": 26,
     "metadata": {},
     "output_type": "execute_result"
    }
   ],
   "source": [
    "np.random.rand(5)"
   ]
  },
  {
   "cell_type": "code",
   "execution_count": 27,
   "id": "68f27670-b283-4ed8-a4e1-7b87e19728f6",
   "metadata": {},
   "outputs": [
    {
     "data": {
      "text/plain": [
       "array([[0.67014696, 0.13882512, 0.00255197],\n",
       "       [0.21802262, 0.51653531, 0.9323457 ]])"
      ]
     },
     "execution_count": 27,
     "metadata": {},
     "output_type": "execute_result"
    }
   ],
   "source": [
    "np.random.rand(2, 3)"
   ]
  },
  {
   "cell_type": "code",
   "execution_count": 28,
   "id": "73571bf8-9a84-42dc-a871-176d89b17824",
   "metadata": {},
   "outputs": [
    {
     "data": {
      "text/plain": [
       "array([ 0.21255729, -0.96958964, -0.38481856, -0.23673126])"
      ]
     },
     "execution_count": 28,
     "metadata": {},
     "output_type": "execute_result"
    }
   ],
   "source": [
    "np.random.randn(4)"
   ]
  },
  {
   "cell_type": "code",
   "execution_count": 29,
   "id": "2dca7cc1-c736-47a2-b640-3c69fbba6d16",
   "metadata": {},
   "outputs": [
    {
     "data": {
      "text/plain": [
       "array([[ 1.20968094,  0.16979585, -0.31959933],\n",
       "       [ 1.18245695,  1.29361956,  1.0354172 ]])"
      ]
     },
     "execution_count": 29,
     "metadata": {},
     "output_type": "execute_result"
    }
   ],
   "source": [
    "np.random.randn(2, 3)"
   ]
  },
  {
   "cell_type": "markdown",
   "id": "334740f5-3f6c-4c2f-bc4c-a144310951a6",
   "metadata": {},
   "source": [
    "# Numpy arrays - Números aleatorios enteros - randint"
   ]
  },
  {
   "cell_type": "code",
   "execution_count": 30,
   "id": "6127f24d-85b1-4969-8e7d-e5bdf87f0763",
   "metadata": {},
   "outputs": [],
   "source": [
    "import numpy as np"
   ]
  },
  {
   "cell_type": "code",
   "execution_count": 31,
   "id": "cf44a749-a3e0-4405-9b0e-a15dd2012cc3",
   "metadata": {},
   "outputs": [
    {
     "data": {
      "text/plain": [
       "13"
      ]
     },
     "execution_count": 31,
     "metadata": {},
     "output_type": "execute_result"
    }
   ],
   "source": [
    "np.random.randint(1, 20)"
   ]
  },
  {
   "cell_type": "code",
   "execution_count": 32,
   "id": "70e09543-f292-4fde-8f62-9e881da37fad",
   "metadata": {},
   "outputs": [
    {
     "data": {
      "text/plain": [
       "array([ 9, 16,  3, 10,  4])"
      ]
     },
     "execution_count": 32,
     "metadata": {},
     "output_type": "execute_result"
    }
   ],
   "source": [
    "np.random.randint(1, 20, 5)"
   ]
  },
  {
   "cell_type": "markdown",
   "id": "8ce66fb4-220d-43cd-ab6c-826bb8256d94",
   "metadata": {},
   "source": [
    "# Numpy arrays - reshape"
   ]
  },
  {
   "cell_type": "code",
   "execution_count": 33,
   "id": "3a65c628-1da1-41a2-a056-3500d10bf53f",
   "metadata": {},
   "outputs": [],
   "source": [
    "import numpy as np"
   ]
  },
  {
   "cell_type": "code",
   "execution_count": 34,
   "id": "880e5e71-2a4a-44ad-b024-d591853a1c3a",
   "metadata": {},
   "outputs": [],
   "source": [
    "array = np.random.randint(1, 100, 25)"
   ]
  },
  {
   "cell_type": "code",
   "execution_count": 35,
   "id": "ecdcf948-cd52-4521-8251-9467b5c1027b",
   "metadata": {},
   "outputs": [
    {
     "data": {
      "text/plain": [
       "array([27,  3, 88, 63,  9, 26, 46, 54, 62,  9, 41, 18, 87,  8, 25, 60, 50,\n",
       "       44, 77, 40, 15, 81, 46, 23, 11])"
      ]
     },
     "execution_count": 35,
     "metadata": {},
     "output_type": "execute_result"
    }
   ],
   "source": [
    "array"
   ]
  },
  {
   "cell_type": "code",
   "execution_count": 36,
   "id": "bd75d13e-1ed5-438b-8089-74d8e490e179",
   "metadata": {},
   "outputs": [],
   "source": [
    "# Convertir en una matriz, el número de columnas y filas multiplicado debe coincidir en este caso con los 25 elementos.\n",
    "matriz = array.reshape(5, 5)"
   ]
  },
  {
   "cell_type": "code",
   "execution_count": 37,
   "id": "79c7a38e-0a20-4b12-9381-9d79269a1eca",
   "metadata": {},
   "outputs": [
    {
     "data": {
      "text/plain": [
       "array([[27,  3, 88, 63,  9],\n",
       "       [26, 46, 54, 62,  9],\n",
       "       [41, 18, 87,  8, 25],\n",
       "       [60, 50, 44, 77, 40],\n",
       "       [15, 81, 46, 23, 11]])"
      ]
     },
     "execution_count": 37,
     "metadata": {},
     "output_type": "execute_result"
    }
   ],
   "source": [
    "matriz"
   ]
  },
  {
   "cell_type": "markdown",
   "id": "701830bc-b47e-4e17-b50f-c9b7df93c801",
   "metadata": {},
   "source": [
    "# Numpy arrays - max y min"
   ]
  },
  {
   "cell_type": "code",
   "execution_count": 38,
   "id": "25b6123c-d6e9-471a-b80d-4a737e5612f4",
   "metadata": {},
   "outputs": [],
   "source": [
    "import numpy as np"
   ]
  },
  {
   "cell_type": "code",
   "execution_count": 39,
   "id": "21778b52-41e3-469d-a1c1-1c95acab687a",
   "metadata": {},
   "outputs": [],
   "source": [
    "array = np.random.randint(1, 100, 50)"
   ]
  },
  {
   "cell_type": "code",
   "execution_count": 40,
   "id": "c73ecd26-81f6-4157-be22-62f5adb3ab04",
   "metadata": {},
   "outputs": [
    {
     "data": {
      "text/plain": [
       "array([66, 51, 58, 15,  4, 37, 41, 60,  1, 29, 80, 59, 50, 91, 34, 38,  4,\n",
       "       59, 58,  6, 49, 14, 91, 15, 33, 76, 65, 13,  8, 73, 76, 99, 76, 49,\n",
       "       11, 31,  2, 80, 78, 16, 88, 91, 10, 78, 72, 60, 75, 22, 86, 31])"
      ]
     },
     "execution_count": 40,
     "metadata": {},
     "output_type": "execute_result"
    }
   ],
   "source": [
    "array"
   ]
  },
  {
   "cell_type": "code",
   "execution_count": 41,
   "id": "a7c442d9-f656-4b70-a0d7-5c48e079a674",
   "metadata": {},
   "outputs": [],
   "source": [
    "valor_maximo = array.max()"
   ]
  },
  {
   "cell_type": "code",
   "execution_count": 42,
   "id": "772ef486-a60d-4199-b97c-bfd69c62f119",
   "metadata": {},
   "outputs": [
    {
     "data": {
      "text/plain": [
       "99"
      ]
     },
     "execution_count": 42,
     "metadata": {},
     "output_type": "execute_result"
    }
   ],
   "source": [
    "valor_maximo"
   ]
  },
  {
   "cell_type": "code",
   "execution_count": 43,
   "id": "10a01528-6927-429f-b7d1-9a283685d045",
   "metadata": {},
   "outputs": [],
   "source": [
    "posicion_valor_maximo = array.argmax()"
   ]
  },
  {
   "cell_type": "code",
   "execution_count": 44,
   "id": "5adcaa8c-c833-46ca-acd5-45c123cba61c",
   "metadata": {},
   "outputs": [
    {
     "data": {
      "text/plain": [
       "31"
      ]
     },
     "execution_count": 44,
     "metadata": {},
     "output_type": "execute_result"
    }
   ],
   "source": [
    "posicion_valor_maximo"
   ]
  },
  {
   "cell_type": "code",
   "execution_count": 45,
   "id": "e59e7b4f-f90f-4a5f-812d-ae9100383072",
   "metadata": {},
   "outputs": [],
   "source": [
    "valor_minimo = array.min()"
   ]
  },
  {
   "cell_type": "code",
   "execution_count": 46,
   "id": "db0649e7-22e1-43ed-8569-f6fcd746036d",
   "metadata": {},
   "outputs": [
    {
     "data": {
      "text/plain": [
       "1"
      ]
     },
     "execution_count": 46,
     "metadata": {},
     "output_type": "execute_result"
    }
   ],
   "source": [
    "valor_minimo"
   ]
  },
  {
   "cell_type": "code",
   "execution_count": 47,
   "id": "3548b8af-d3c6-45e4-ad7a-42455231f6e1",
   "metadata": {},
   "outputs": [],
   "source": [
    "posicion_valor_minimo = array.argmin()"
   ]
  },
  {
   "cell_type": "code",
   "execution_count": 48,
   "id": "693a4de7-cda5-4577-ae78-a92eeb0c2dcd",
   "metadata": {},
   "outputs": [
    {
     "data": {
      "text/plain": [
       "8"
      ]
     },
     "execution_count": 48,
     "metadata": {},
     "output_type": "execute_result"
    }
   ],
   "source": [
    "posicion_valor_minimo"
   ]
  },
  {
   "cell_type": "markdown",
   "id": "fa8b538f-70e6-40cd-add6-f2ff9963694d",
   "metadata": {},
   "source": [
    "# Numpy - Indexación en arrays"
   ]
  },
  {
   "cell_type": "code",
   "execution_count": 49,
   "id": "df7831cf-4db7-47ae-b3bc-884981fabaa2",
   "metadata": {},
   "outputs": [],
   "source": [
    "import numpy as np"
   ]
  },
  {
   "cell_type": "code",
   "execution_count": 50,
   "id": "487db73b-2f49-443b-8080-30e41fad1c5a",
   "metadata": {},
   "outputs": [],
   "source": [
    "array = np.arange(0, 10)"
   ]
  },
  {
   "cell_type": "code",
   "execution_count": 51,
   "id": "0a78b16a-3593-4744-ab21-efa7ad9e2477",
   "metadata": {},
   "outputs": [
    {
     "data": {
      "text/plain": [
       "array([0, 1, 2, 3, 4, 5, 6, 7, 8, 9])"
      ]
     },
     "execution_count": 51,
     "metadata": {},
     "output_type": "execute_result"
    }
   ],
   "source": [
    "array"
   ]
  },
  {
   "cell_type": "code",
   "execution_count": 53,
   "id": "84327a6c-aab5-4aa1-b4d6-5e2e2117906c",
   "metadata": {},
   "outputs": [
    {
     "data": {
      "text/plain": [
       "9"
      ]
     },
     "execution_count": 53,
     "metadata": {},
     "output_type": "execute_result"
    }
   ],
   "source": [
    "array[9]"
   ]
  },
  {
   "cell_type": "code",
   "execution_count": 54,
   "id": "d8362385-3725-4d80-9c07-4730be71847e",
   "metadata": {},
   "outputs": [
    {
     "data": {
      "text/plain": [
       "9"
      ]
     },
     "execution_count": 54,
     "metadata": {},
     "output_type": "execute_result"
    }
   ],
   "source": [
    "array[-1]"
   ]
  },
  {
   "cell_type": "code",
   "execution_count": 55,
   "id": "dbba3cdc-3230-4e49-a843-2001d60c2d29",
   "metadata": {},
   "outputs": [
    {
     "data": {
      "text/plain": [
       "array([2, 3])"
      ]
     },
     "execution_count": 55,
     "metadata": {},
     "output_type": "execute_result"
    }
   ],
   "source": [
    "array[2:4]"
   ]
  },
  {
   "cell_type": "code",
   "execution_count": 56,
   "id": "a45754d6-82eb-43a4-a9a8-d32fc25dd6fb",
   "metadata": {},
   "outputs": [
    {
     "data": {
      "text/plain": [
       "array([0, 1, 2, 3, 4, 5, 6, 7, 8, 9])"
      ]
     },
     "execution_count": 56,
     "metadata": {},
     "output_type": "execute_result"
    }
   ],
   "source": [
    "array[:]"
   ]
  },
  {
   "cell_type": "code",
   "execution_count": 57,
   "id": "6ac292b8-c7cf-41ff-b585-53961e956681",
   "metadata": {},
   "outputs": [
    {
     "data": {
      "text/plain": [
       "array([5, 6, 7, 8, 9])"
      ]
     },
     "execution_count": 57,
     "metadata": {},
     "output_type": "execute_result"
    }
   ],
   "source": [
    "array[5:]"
   ]
  },
  {
   "cell_type": "code",
   "execution_count": 58,
   "id": "68f7af84-11d8-40fc-8881-b04a9c8e4afe",
   "metadata": {},
   "outputs": [
    {
     "data": {
      "text/plain": [
       "array([0, 1, 2, 3, 4])"
      ]
     },
     "execution_count": 58,
     "metadata": {},
     "output_type": "execute_result"
    }
   ],
   "source": [
    "array[:5]"
   ]
  },
  {
   "cell_type": "code",
   "execution_count": 59,
   "id": "6660cbd5-9b33-4343-9d68-415f9553c5dd",
   "metadata": {},
   "outputs": [],
   "source": [
    "array2 = array.copy()"
   ]
  },
  {
   "cell_type": "code",
   "execution_count": 60,
   "id": "9ecd5de0-a952-452f-a6af-0bf1825b3215",
   "metadata": {},
   "outputs": [
    {
     "data": {
      "text/plain": [
       "array([0, 1, 2, 3, 4, 5, 6, 7, 8, 9])"
      ]
     },
     "execution_count": 60,
     "metadata": {},
     "output_type": "execute_result"
    }
   ],
   "source": [
    "array2"
   ]
  },
  {
   "cell_type": "code",
   "execution_count": 61,
   "id": "719e66f1-d831-4180-aea2-e3d50255fdbf",
   "metadata": {},
   "outputs": [],
   "source": [
    "array2[0] = 100"
   ]
  },
  {
   "cell_type": "code",
   "execution_count": 62,
   "id": "b63dbf48-b256-4593-bfd1-b834087f8462",
   "metadata": {},
   "outputs": [
    {
     "data": {
      "text/plain": [
       "array([100,   1,   2,   3,   4,   5,   6,   7,   8,   9])"
      ]
     },
     "execution_count": 62,
     "metadata": {},
     "output_type": "execute_result"
    }
   ],
   "source": [
    "array2"
   ]
  },
  {
   "cell_type": "code",
   "execution_count": 63,
   "id": "26869e43-fda3-4d58-bb7c-2263f5835744",
   "metadata": {},
   "outputs": [
    {
     "data": {
      "text/plain": [
       "array([0, 1, 2, 3, 4, 5, 6, 7, 8, 9])"
      ]
     },
     "execution_count": 63,
     "metadata": {},
     "output_type": "execute_result"
    }
   ],
   "source": [
    "array"
   ]
  },
  {
   "cell_type": "markdown",
   "id": "8d9a2078-7dc9-4759-aad3-8c51ae5ce8a6",
   "metadata": {},
   "source": [
    "# Numpy - Indexación en arrays de 2 o más dimensiones"
   ]
  },
  {
   "cell_type": "code",
   "execution_count": 64,
   "id": "9bcfad3d-10dc-4f64-8df3-be9b5b6896d9",
   "metadata": {},
   "outputs": [],
   "source": [
    "import numpy as np"
   ]
  },
  {
   "cell_type": "code",
   "execution_count": 65,
   "id": "7203f742-e4e5-4ad0-9e03-38c03b59b41d",
   "metadata": {},
   "outputs": [],
   "source": [
    "array = np.array(([1, 2, 3], [4, 5, 6], [7, 8, 9]))"
   ]
  },
  {
   "cell_type": "code",
   "execution_count": 66,
   "id": "d56b3819-099f-472e-be02-e7ee726e5b95",
   "metadata": {},
   "outputs": [
    {
     "data": {
      "text/plain": [
       "array([[1, 2, 3],\n",
       "       [4, 5, 6],\n",
       "       [7, 8, 9]])"
      ]
     },
     "execution_count": 66,
     "metadata": {},
     "output_type": "execute_result"
    }
   ],
   "source": [
    "array"
   ]
  },
  {
   "cell_type": "code",
   "execution_count": 67,
   "id": "0c3202fb-1140-49df-a180-a21030b67523",
   "metadata": {},
   "outputs": [
    {
     "data": {
      "text/plain": [
       "array([1, 2, 3])"
      ]
     },
     "execution_count": 67,
     "metadata": {},
     "output_type": "execute_result"
    }
   ],
   "source": [
    "array[0]"
   ]
  },
  {
   "cell_type": "code",
   "execution_count": 71,
   "id": "8e027019-d4d7-41ee-9cda-25ba6ada4761",
   "metadata": {},
   "outputs": [
    {
     "data": {
      "text/plain": [
       "array([[1, 2, 3],\n",
       "       [4, 5, 6]])"
      ]
     },
     "execution_count": 71,
     "metadata": {},
     "output_type": "execute_result"
    }
   ],
   "source": [
    "array[:2]"
   ]
  },
  {
   "cell_type": "code",
   "execution_count": 73,
   "id": "6c8a65a5-98e2-46f3-b3a0-6720504ae1b2",
   "metadata": {},
   "outputs": [
    {
     "data": {
      "text/plain": [
       "1"
      ]
     },
     "execution_count": 73,
     "metadata": {},
     "output_type": "execute_result"
    }
   ],
   "source": [
    "array[0, 0]"
   ]
  },
  {
   "cell_type": "code",
   "execution_count": 74,
   "id": "e03f2720-2572-4e7d-876e-9b92728e744f",
   "metadata": {},
   "outputs": [
    {
     "data": {
      "text/plain": [
       "5"
      ]
     },
     "execution_count": 74,
     "metadata": {},
     "output_type": "execute_result"
    }
   ],
   "source": [
    "array[1, 1]"
   ]
  },
  {
   "cell_type": "code",
   "execution_count": 75,
   "id": "3b3ebc23-928b-43b9-8baa-e422e770b4b7",
   "metadata": {},
   "outputs": [
    {
     "data": {
      "text/plain": [
       "array([1, 4, 7])"
      ]
     },
     "execution_count": 75,
     "metadata": {},
     "output_type": "execute_result"
    }
   ],
   "source": [
    "array[:,0]"
   ]
  },
  {
   "cell_type": "markdown",
   "id": "c59744e8-3b52-4a43-b03d-4ca1102df8d4",
   "metadata": {},
   "source": [
    "# Numpy - Seleccionar elementos de un array según una condición"
   ]
  },
  {
   "cell_type": "code",
   "execution_count": 76,
   "id": "86f5320c-6383-4239-914f-e57ae195414b",
   "metadata": {},
   "outputs": [],
   "source": [
    "import numpy as np"
   ]
  },
  {
   "cell_type": "code",
   "execution_count": 79,
   "id": "4e15d20c-cabc-4c5c-9b45-fb95ae2fb312",
   "metadata": {},
   "outputs": [],
   "source": [
    "array = np.arange(0, 10)"
   ]
  },
  {
   "cell_type": "code",
   "execution_count": 80,
   "id": "edf78868-493e-4732-b3c3-402708e2fe8d",
   "metadata": {},
   "outputs": [
    {
     "data": {
      "text/plain": [
       "array([0, 1, 2, 3, 4, 5, 6, 7, 8, 9])"
      ]
     },
     "execution_count": 80,
     "metadata": {},
     "output_type": "execute_result"
    }
   ],
   "source": [
    "array"
   ]
  },
  {
   "cell_type": "code",
   "execution_count": 81,
   "id": "3429a282-8ce7-4190-912b-134a34291fe8",
   "metadata": {},
   "outputs": [],
   "source": [
    "condicion = array > 5"
   ]
  },
  {
   "cell_type": "code",
   "execution_count": 82,
   "id": "ca331267-0211-41b2-827f-aa2f56b46af6",
   "metadata": {},
   "outputs": [
    {
     "data": {
      "text/plain": [
       "array([False, False, False, False, False, False,  True,  True,  True,\n",
       "        True])"
      ]
     },
     "execution_count": 82,
     "metadata": {},
     "output_type": "execute_result"
    }
   ],
   "source": [
    "condicion"
   ]
  },
  {
   "cell_type": "code",
   "execution_count": 83,
   "id": "e97921fb-ad56-48cf-813b-f4f88b4288d3",
   "metadata": {},
   "outputs": [
    {
     "data": {
      "text/plain": [
       "array([6, 7, 8, 9])"
      ]
     },
     "execution_count": 83,
     "metadata": {},
     "output_type": "execute_result"
    }
   ],
   "source": [
    "array[condicion]"
   ]
  },
  {
   "cell_type": "code",
   "execution_count": 84,
   "id": "1b4ea598-c1cb-4571-81f4-5eba9c8dbfe4",
   "metadata": {},
   "outputs": [],
   "source": [
    "array6 = array[condicion]"
   ]
  },
  {
   "cell_type": "code",
   "execution_count": 85,
   "id": "c9835e08-5ede-4dd8-9361-ad6821028423",
   "metadata": {},
   "outputs": [
    {
     "data": {
      "text/plain": [
       "array([6, 7, 8, 9])"
      ]
     },
     "execution_count": 85,
     "metadata": {},
     "output_type": "execute_result"
    }
   ],
   "source": [
    "array6"
   ]
  },
  {
   "cell_type": "code",
   "execution_count": 86,
   "id": "b01c6d4c-c8a6-4992-89cc-87b6de00e525",
   "metadata": {},
   "outputs": [
    {
     "data": {
      "text/plain": [
       "array([6, 7, 8, 9])"
      ]
     },
     "execution_count": 86,
     "metadata": {},
     "output_type": "execute_result"
    }
   ],
   "source": [
    "array[array > 5]"
   ]
  },
  {
   "cell_type": "code",
   "execution_count": 89,
   "id": "4919a2d0-9a65-47cd-9246-4131e030bade",
   "metadata": {},
   "outputs": [],
   "source": [
    "arraypar = array[array % 2 == 0]"
   ]
  },
  {
   "cell_type": "code",
   "execution_count": 90,
   "id": "9aee1c27-7eb5-4ffd-9137-3a0e41e8c903",
   "metadata": {},
   "outputs": [
    {
     "data": {
      "text/plain": [
       "array([0, 2, 4, 6, 8])"
      ]
     },
     "execution_count": 90,
     "metadata": {},
     "output_type": "execute_result"
    }
   ],
   "source": [
    "arraypar"
   ]
  },
  {
   "cell_type": "markdown",
   "id": "658700d1-a659-4071-b977-40eaacce35a7",
   "metadata": {},
   "source": [
    "# Numpy - Operaciones sobre los arrays"
   ]
  },
  {
   "cell_type": "code",
   "execution_count": 91,
   "id": "fa872df8-44e2-4c58-89af-849dbb1032b6",
   "metadata": {},
   "outputs": [],
   "source": [
    "import numpy as np"
   ]
  },
  {
   "cell_type": "code",
   "execution_count": 92,
   "id": "c78c161d-4f96-4ce2-8706-92cd051f8dda",
   "metadata": {},
   "outputs": [],
   "source": [
    "array = np.arange(0, 10)"
   ]
  },
  {
   "cell_type": "code",
   "execution_count": 93,
   "id": "fba4c89b-be4f-4613-a487-f665fdc3c424",
   "metadata": {},
   "outputs": [
    {
     "data": {
      "text/plain": [
       "array([0, 1, 2, 3, 4, 5, 6, 7, 8, 9])"
      ]
     },
     "execution_count": 93,
     "metadata": {},
     "output_type": "execute_result"
    }
   ],
   "source": [
    "array"
   ]
  },
  {
   "cell_type": "code",
   "execution_count": 94,
   "id": "855fdbf8-c087-4cc9-9dec-478b176aa0f1",
   "metadata": {},
   "outputs": [
    {
     "data": {
      "text/plain": [
       "array([ 0,  2,  4,  6,  8, 10, 12, 14, 16, 18])"
      ]
     },
     "execution_count": 94,
     "metadata": {},
     "output_type": "execute_result"
    }
   ],
   "source": [
    "array + array"
   ]
  },
  {
   "cell_type": "code",
   "execution_count": 95,
   "id": "5f39ddf1-2154-4f87-a74e-84de4fd1540e",
   "metadata": {},
   "outputs": [
    {
     "data": {
      "text/plain": [
       "array([0, 0, 0, 0, 0, 0, 0, 0, 0, 0])"
      ]
     },
     "execution_count": 95,
     "metadata": {},
     "output_type": "execute_result"
    }
   ],
   "source": [
    "array - array"
   ]
  },
  {
   "cell_type": "code",
   "execution_count": 96,
   "id": "681e7570-7a15-426f-aeb5-8c6a69dd5bb2",
   "metadata": {},
   "outputs": [
    {
     "data": {
      "text/plain": [
       "array([  0, 100, 200, 300, 400, 500, 600, 700, 800, 900])"
      ]
     },
     "execution_count": 96,
     "metadata": {},
     "output_type": "execute_result"
    }
   ],
   "source": [
    "array * 100"
   ]
  },
  {
   "cell_type": "code",
   "execution_count": 97,
   "id": "75cd923a-d703-4c80-acda-b85ac58526e2",
   "metadata": {},
   "outputs": [
    {
     "data": {
      "text/plain": [
       "array([50, 51, 52, 53, 54, 55, 56, 57, 58, 59])"
      ]
     },
     "execution_count": 97,
     "metadata": {},
     "output_type": "execute_result"
    }
   ],
   "source": [
    "array + 50"
   ]
  },
  {
   "cell_type": "code",
   "execution_count": 98,
   "id": "4e02d79a-2f18-4dc4-aca7-84d17880a2d3",
   "metadata": {},
   "outputs": [
    {
     "data": {
      "text/plain": [
       "array([-1,  0,  1,  2,  3,  4,  5,  6,  7,  8])"
      ]
     },
     "execution_count": 98,
     "metadata": {},
     "output_type": "execute_result"
    }
   ],
   "source": [
    "array - 1"
   ]
  },
  {
   "cell_type": "code",
   "execution_count": 99,
   "id": "90f12129-e55b-4f8a-8ea4-56759d9e52ee",
   "metadata": {},
   "outputs": [],
   "source": [
    "array2 = np.arange(5, 15)"
   ]
  },
  {
   "cell_type": "code",
   "execution_count": 100,
   "id": "6df84083-a9f8-486a-89a9-f61fdf66405c",
   "metadata": {},
   "outputs": [
    {
     "data": {
      "text/plain": [
       "array([ 5,  6,  7,  8,  9, 10, 11, 12, 13, 14])"
      ]
     },
     "execution_count": 100,
     "metadata": {},
     "output_type": "execute_result"
    }
   ],
   "source": [
    "array2"
   ]
  },
  {
   "cell_type": "code",
   "execution_count": 101,
   "id": "a5e8d0d3-d720-4394-a08f-015bf316a7cb",
   "metadata": {},
   "outputs": [
    {
     "data": {
      "text/plain": [
       "array([0, 1, 2, 3, 4, 5, 6, 7, 8, 9])"
      ]
     },
     "execution_count": 101,
     "metadata": {},
     "output_type": "execute_result"
    }
   ],
   "source": [
    "array"
   ]
  },
  {
   "cell_type": "code",
   "execution_count": 102,
   "id": "6e357914-2981-4ef0-b36a-e7bde6e8b2aa",
   "metadata": {},
   "outputs": [
    {
     "data": {
      "text/plain": [
       "array([5, 5, 5, 5, 5, 5, 5, 5, 5, 5])"
      ]
     },
     "execution_count": 102,
     "metadata": {},
     "output_type": "execute_result"
    }
   ],
   "source": [
    "array2 - array"
   ]
  },
  {
   "cell_type": "code",
   "execution_count": 103,
   "id": "724f970f-12aa-4d81-b40e-923445f79bc0",
   "metadata": {},
   "outputs": [
    {
     "data": {
      "text/plain": [
       "array([2.23606798, 2.44948974, 2.64575131, 2.82842712, 3.        ,\n",
       "       3.16227766, 3.31662479, 3.46410162, 3.60555128, 3.74165739])"
      ]
     },
     "execution_count": 103,
     "metadata": {},
     "output_type": "execute_result"
    }
   ],
   "source": [
    "np.sqrt(array2)"
   ]
  },
  {
   "cell_type": "code",
   "execution_count": 104,
   "id": "b19077aa-ed82-44e9-b84b-53c778d404e2",
   "metadata": {},
   "outputs": [
    {
     "data": {
      "text/plain": [
       "14"
      ]
     },
     "execution_count": 104,
     "metadata": {},
     "output_type": "execute_result"
    }
   ],
   "source": [
    "np.max(array2)"
   ]
  },
  {
   "cell_type": "code",
   "execution_count": null,
   "id": "f8867617-c531-4008-9dee-d93ce2721fc7",
   "metadata": {},
   "outputs": [],
   "source": []
  }
 ],
 "metadata": {
  "kernelspec": {
   "display_name": "Python 3 (ipykernel)",
   "language": "python",
   "name": "python3"
  },
  "language_info": {
   "codemirror_mode": {
    "name": "ipython",
    "version": 3
   },
   "file_extension": ".py",
   "mimetype": "text/x-python",
   "name": "python",
   "nbconvert_exporter": "python",
   "pygments_lexer": "ipython3",
   "version": "3.12.4"
  }
 },
 "nbformat": 4,
 "nbformat_minor": 5
}
