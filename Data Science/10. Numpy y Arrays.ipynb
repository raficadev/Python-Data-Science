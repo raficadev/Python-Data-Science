{
 "cells": [
  {
   "cell_type": "code",
   "execution_count": 46,
   "id": "202da593-2e1a-4f53-af87-c310f0b77b51",
   "metadata": {},
   "outputs": [
    {
     "name": "stdout",
     "output_type": "stream",
     "text": [
      "[2345, 54, 86478, 697, 782, -8452]\n"
     ]
    }
   ],
   "source": [
    "L = [2345, 54, 86478, 697, 782, -8452]\n",
    "print(L)"
   ]
  },
  {
   "cell_type": "code",
   "execution_count": 48,
   "id": "0236f7b6-cc8d-446f-94e9-aaf95ed97d8b",
   "metadata": {},
   "outputs": [
    {
     "data": {
      "text/plain": [
       "array([ 2345,    54, 86478,   697,   782, -8452])"
      ]
     },
     "execution_count": 48,
     "metadata": {},
     "output_type": "execute_result"
    }
   ],
   "source": [
    "import numpy as np\n",
    "\n",
    "np.array(L) # Un array solo puede contener un único tipo de datos"
   ]
  },
  {
   "cell_type": "code",
   "execution_count": 50,
   "id": "a666fac9-16c7-4cae-8f39-e780148fcaf9",
   "metadata": {},
   "outputs": [
    {
     "name": "stdout",
     "output_type": "stream",
     "text": [
      "[ 2345    54 86478   697   782 -8452]\n"
     ]
    }
   ],
   "source": [
    "a = np.array(L)\n",
    "print(a)"
   ]
  },
  {
   "cell_type": "code",
   "execution_count": 52,
   "id": "46d1ca9c-9bd2-463c-b949-8f153be98b36",
   "metadata": {},
   "outputs": [
    {
     "name": "stdout",
     "output_type": "stream",
     "text": [
      "['12' '455' '63.3' 'True' 'abc']\n"
     ]
    }
   ],
   "source": [
    "b = np.array([12, 455, 63.3, True, \"abc\"])\n",
    "print(b) # Al poder contener un único tipo de datos convierte todos los elementos a cadena de texto"
   ]
  },
  {
   "cell_type": "markdown",
   "id": "a9602c9c-441f-42bd-8f35-e713a5c3a680",
   "metadata": {},
   "source": [
    "---"
   ]
  },
  {
   "cell_type": "code",
   "execution_count": 54,
   "id": "37c9d528-61a8-4a4b-910a-fa7397978b0d",
   "metadata": {},
   "outputs": [
    {
     "name": "stdout",
     "output_type": "stream",
     "text": [
      "[2345, 54, 86478, 697, 782, -8452]\n"
     ]
    }
   ],
   "source": [
    "print(L)"
   ]
  },
  {
   "cell_type": "code",
   "execution_count": 56,
   "id": "eb77176a-073a-4df3-be95-a81f77a4fbc7",
   "metadata": {},
   "outputs": [
    {
     "data": {
      "text/plain": [
       "-8452"
      ]
     },
     "execution_count": 56,
     "metadata": {},
     "output_type": "execute_result"
    }
   ],
   "source": [
    "L.pop()"
   ]
  },
  {
   "cell_type": "code",
   "execution_count": 58,
   "id": "ea20d473-c910-498f-b319-70e76d98da11",
   "metadata": {},
   "outputs": [
    {
     "name": "stdout",
     "output_type": "stream",
     "text": [
      "[2345, 54, 86478, 697, 782]\n"
     ]
    }
   ],
   "source": [
    "print(L)"
   ]
  },
  {
   "cell_type": "code",
   "execution_count": 63,
   "id": "b853e1ad-b3db-4292-b682-b20ded9d3170",
   "metadata": {},
   "outputs": [
    {
     "name": "stdout",
     "output_type": "stream",
     "text": [
      "[ 2345    54 86478   697   782 -8452]\n"
     ]
    }
   ],
   "source": [
    "print(a)"
   ]
  },
  {
   "cell_type": "code",
   "execution_count": 67,
   "id": "f1b951ab-40c4-4420-a137-07c7aa66fb20",
   "metadata": {},
   "outputs": [
    {
     "name": "stdout",
     "output_type": "stream",
     "text": [
      "13650.666666666666\n"
     ]
    }
   ],
   "source": [
    "print(a.mean()) # mean hace la media de los valores"
   ]
  },
  {
   "cell_type": "markdown",
   "id": "0585b194-504b-463d-b1f1-5028956c27a9",
   "metadata": {},
   "source": [
    "---"
   ]
  },
  {
   "cell_type": "code",
   "execution_count": 72,
   "id": "3d82b015-4200-4560-8e95-cc171bbc9859",
   "metadata": {},
   "outputs": [
    {
     "name": "stdout",
     "output_type": "stream",
     "text": [
      "[ 2345    54 86478   697   782 -8452]\n",
      "[86478   697]\n"
     ]
    }
   ],
   "source": [
    "# Con los arrays no se crea una nueva copia\n",
    "print(a)\n",
    "print(a[2:4])"
   ]
  },
  {
   "cell_type": "code",
   "execution_count": 74,
   "id": "d5820392-a1e4-42b2-8299-36503aeae152",
   "metadata": {},
   "outputs": [
    {
     "name": "stdout",
     "output_type": "stream",
     "text": [
      "[86478   697]\n"
     ]
    }
   ],
   "source": [
    "b = a[2:4]\n",
    "print(b)"
   ]
  },
  {
   "cell_type": "code",
   "execution_count": 76,
   "id": "3c3ecf1d-93cc-481e-9f26-aa19b99558d5",
   "metadata": {},
   "outputs": [
    {
     "name": "stdout",
     "output_type": "stream",
     "text": [
      "[111 111]\n"
     ]
    }
   ],
   "source": [
    "b[:] = 111\n",
    "print(b)"
   ]
  },
  {
   "cell_type": "code",
   "execution_count": 80,
   "id": "5db07d01-249a-40d8-903f-9574023668e0",
   "metadata": {},
   "outputs": [
    {
     "name": "stdout",
     "output_type": "stream",
     "text": [
      "[ 2345    54   111   111   782 -8452]\n",
      "[111 111]\n"
     ]
    }
   ],
   "source": [
    "# Los dos valores de b han sido modificados, pero también los de a\n",
    "print(a)\n",
    "print(a[2:4])"
   ]
  },
  {
   "cell_type": "code",
   "execution_count": 86,
   "id": "8b030fa1-34de-4c96-a08b-594ef79abf72",
   "metadata": {},
   "outputs": [
    {
     "name": "stdout",
     "output_type": "stream",
     "text": [
      "[ 2345    54   111   111   782 -8452]\n"
     ]
    }
   ],
   "source": [
    "# Para crear una copia que no afecte al array principal usamos .copy()\n",
    "c = a.copy()\n",
    "print(c)"
   ]
  },
  {
   "cell_type": "code",
   "execution_count": 84,
   "id": "6ecd9888-75b7-4931-b1cf-8e51f9b91d92",
   "metadata": {},
   "outputs": [
    {
     "name": "stdout",
     "output_type": "stream",
     "text": [
      "[    0    54   111   111   782 -8452]\n",
      "[ 2345    54   111   111   782 -8452]\n"
     ]
    }
   ],
   "source": [
    "c[0] = 0\n",
    "print(c)\n",
    "print(a)"
   ]
  },
  {
   "cell_type": "code",
   "execution_count": null,
   "id": "5c71faf7-c0ae-4485-a9d7-c86a347c4bed",
   "metadata": {},
   "outputs": [],
   "source": []
  }
 ],
 "metadata": {
  "kernelspec": {
   "display_name": "Python 3 (ipykernel)",
   "language": "python",
   "name": "python3"
  },
  "language_info": {
   "codemirror_mode": {
    "name": "ipython",
    "version": 3
   },
   "file_extension": ".py",
   "mimetype": "text/x-python",
   "name": "python",
   "nbconvert_exporter": "python",
   "pygments_lexer": "ipython3",
   "version": "3.12.4"
  }
 },
 "nbformat": 4,
 "nbformat_minor": 5
}
