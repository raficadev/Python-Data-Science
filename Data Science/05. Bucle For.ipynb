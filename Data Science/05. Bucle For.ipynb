{
 "cells": [
  {
   "cell_type": "code",
   "execution_count": 2,
   "id": "4899a944-1d00-4275-b80d-8b5fef6d57b1",
   "metadata": {},
   "outputs": [
    {
     "name": "stdout",
     "output_type": "stream",
     "text": [
      "0\n",
      "1\n",
      "2\n",
      "3\n",
      "4\n",
      "5\n",
      "6\n",
      "7\n",
      "8\n",
      "9\n",
      "10\n",
      "11\n"
     ]
    }
   ],
   "source": [
    "contador = 0\n",
    "while contador < 12:\n",
    "    print(contador)\n",
    "    contador = contador + 1"
   ]
  },
  {
   "cell_type": "code",
   "execution_count": 10,
   "id": "50b6fa96-096a-45cb-b366-ecc6e5ae9262",
   "metadata": {},
   "outputs": [
    {
     "name": "stdout",
     "output_type": "stream",
     "text": [
      "Hola Python\n",
      "Hola Python\n",
      "Hola Python\n",
      "Hola Python\n",
      "Hola Python\n"
     ]
    }
   ],
   "source": [
    "# Bucle for, en este caso range marca el número de iteraciones para finalizar el bucle\n",
    "for i in range(5):\n",
    "    print(\"Hola Python\")"
   ]
  },
  {
   "cell_type": "code",
   "execution_count": 9,
   "id": "ec38a479-686c-43a5-9e17-d8fb768c9e45",
   "metadata": {},
   "outputs": [
    {
     "data": {
      "text/plain": [
       "range(0, 5)"
      ]
     },
     "execution_count": 9,
     "metadata": {},
     "output_type": "execute_result"
    }
   ],
   "source": [
    "range(5) # Rango de 5 valores (set de 5 números)"
   ]
  },
  {
   "cell_type": "code",
   "execution_count": 8,
   "id": "4a3a35c9-4156-49c2-9e9b-7991fc9d810f",
   "metadata": {},
   "outputs": [
    {
     "data": {
      "text/plain": [
       "[0, 1, 2, 3, 4]"
      ]
     },
     "execution_count": 8,
     "metadata": {},
     "output_type": "execute_result"
    }
   ],
   "source": [
    "list(range(5)) # Si hacemos una lista nos desglosa el rango para poder ver los 5 valores"
   ]
  },
  {
   "cell_type": "code",
   "execution_count": 11,
   "id": "6485fe6f-1159-418b-ba0d-a1f2a29d58cc",
   "metadata": {},
   "outputs": [
    {
     "name": "stdout",
     "output_type": "stream",
     "text": [
      "Hola Python 0\n",
      "Hola Python 1\n",
      "Hola Python 2\n",
      "Hola Python 3\n",
      "Hola Python 4\n"
     ]
    }
   ],
   "source": [
    "for i in range(5):\n",
    "    print(\"Hola Python\", i)"
   ]
  },
  {
   "cell_type": "markdown",
   "id": "7e0bd9c0-1539-40f5-bd2b-0428c0057f00",
   "metadata": {},
   "source": [
    "---"
   ]
  },
  {
   "cell_type": "code",
   "execution_count": 12,
   "id": "9f89f6e5-af53-40f6-a829-cdc4c0479f10",
   "metadata": {},
   "outputs": [
    {
     "name": "stdout",
     "output_type": "stream",
     "text": [
      "[10, 100, 1000]\n"
     ]
    }
   ],
   "source": [
    "# Otra forma de trabajar con el bucle for\n",
    "myList = [10, 100, 1000]\n",
    "print(myList)"
   ]
  },
  {
   "cell_type": "code",
   "execution_count": 13,
   "id": "71024c52-c0d8-4559-afcc-064fe61f21b1",
   "metadata": {},
   "outputs": [
    {
     "name": "stdout",
     "output_type": "stream",
     "text": [
      "jj es igual a:  10\n",
      "jj es igual a:  100\n",
      "jj es igual a:  1000\n"
     ]
    }
   ],
   "source": [
    "for jj in myList:\n",
    "    print(\"jj es igual a: \", jj)"
   ]
  },
  {
   "cell_type": "code",
   "execution_count": null,
   "id": "c4e0138c-49bf-44e0-be4b-d7f740fb2322",
   "metadata": {},
   "outputs": [],
   "source": []
  }
 ],
 "metadata": {
  "kernelspec": {
   "display_name": "Python 3 (ipykernel)",
   "language": "python",
   "name": "python3"
  },
  "language_info": {
   "codemirror_mode": {
    "name": "ipython",
    "version": 3
   },
   "file_extension": ".py",
   "mimetype": "text/x-python",
   "name": "python",
   "nbconvert_exporter": "python",
   "pygments_lexer": "ipython3",
   "version": "3.12.4"
  }
 },
 "nbformat": 4,
 "nbformat_minor": 5
}
