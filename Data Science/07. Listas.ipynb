{
 "cells": [
  {
   "cell_type": "code",
   "execution_count": 11,
   "id": "7e5ce1cf-3255-4dec-8044-b980d49d2a62",
   "metadata": {},
   "outputs": [
    {
     "name": "stdout",
     "output_type": "stream",
     "text": [
      "[8, 78, 62, 2, 35]\n"
     ]
    },
    {
     "data": {
      "text/plain": [
       "list"
      ]
     },
     "execution_count": 11,
     "metadata": {},
     "output_type": "execute_result"
    }
   ],
   "source": [
    "MiPrimeraLista = [8, 78, 62, 2, 35]\n",
    "print(MiPrimeraLista)\n",
    "type(MiPrimeraLista)"
   ]
  },
  {
   "cell_type": "code",
   "execution_count": 7,
   "id": "2689891b-9802-445a-b4bf-351d97400489",
   "metadata": {},
   "outputs": [
    {
     "name": "stdout",
     "output_type": "stream",
     "text": [
      "['Hola', 24, True, 55.3]\n"
     ]
    }
   ],
   "source": [
    "l2 = [\"Hola\", 24, True, 55.3]\n",
    "print(l2)"
   ]
  },
  {
   "cell_type": "code",
   "execution_count": 9,
   "id": "793e418c-99ce-4c84-a2f2-27c0391ddcc8",
   "metadata": {},
   "outputs": [
    {
     "name": "stdout",
     "output_type": "stream",
     "text": [
      "['¿Cómo estás?', 55, [8, 78, 62, 2, 35]]\n"
     ]
    }
   ],
   "source": [
    "l3 = [\"¿Cómo estás?\", 55, MiPrimeraLista]\n",
    "print(l3)"
   ]
  },
  {
   "cell_type": "markdown",
   "id": "e5542b35-a86f-4164-8a5c-4aa346591c61",
   "metadata": {},
   "source": [
    "---"
   ]
  },
  {
   "cell_type": "code",
   "execution_count": 25,
   "id": "a33a37e5-f9be-4f49-9d7e-98e09e035f85",
   "metadata": {},
   "outputs": [
    {
     "data": {
      "text/plain": [
       "range(0, 8)"
      ]
     },
     "execution_count": 25,
     "metadata": {},
     "output_type": "execute_result"
    }
   ],
   "source": [
    "# Utilizando la función range podemos generar una lista de números consecutivos sin tener que añadirlos de uno en uno\n",
    "range(8)"
   ]
  },
  {
   "cell_type": "code",
   "execution_count": 19,
   "id": "880345de-2f38-43f2-b284-46fcdcffb74c",
   "metadata": {},
   "outputs": [
    {
     "data": {
      "text/plain": [
       "[0, 1, 2, 3, 4, 5, 6, 7]"
      ]
     },
     "execution_count": 19,
     "metadata": {},
     "output_type": "execute_result"
    }
   ],
   "source": [
    "list(range(8))"
   ]
  },
  {
   "cell_type": "code",
   "execution_count": 21,
   "id": "ba48e3ce-c252-439f-9ff9-58df96519045",
   "metadata": {},
   "outputs": [
    {
     "name": "stdout",
     "output_type": "stream",
     "text": [
      "[0, 1, 2, 3, 4, 5, 6, 7]\n"
     ]
    }
   ],
   "source": [
    "x = [0, 1, 2, 3, 4, 5, 6, 7]\n",
    "print(x)"
   ]
  },
  {
   "cell_type": "code",
   "execution_count": 23,
   "id": "cf4fd0a1-0957-41d5-b872-4f5348820a7a",
   "metadata": {},
   "outputs": [
    {
     "name": "stdout",
     "output_type": "stream",
     "text": [
      "[0, 1, 2, 3, 4, 5, 6, 7]\n"
     ]
    }
   ],
   "source": [
    "y = list(range(8))\n",
    "print(y)"
   ]
  },
  {
   "cell_type": "code",
   "execution_count": 30,
   "id": "5f7a4462-49a1-43d9-9270-6e3224325450",
   "metadata": {},
   "outputs": [
    {
     "name": "stdout",
     "output_type": "stream",
     "text": [
      "[1, 2, 3, 4, 5, 6, 7]\n"
     ]
    }
   ],
   "source": [
    "# Podemos empezar desde un número específico en lugar de 0\n",
    "z = list(range(1, 8))\n",
    "print(z)"
   ]
  },
  {
   "cell_type": "code",
   "execution_count": 34,
   "id": "3b00e8fe-132c-446d-a248-3f232a9638e5",
   "metadata": {},
   "outputs": [
    {
     "name": "stdout",
     "output_type": "stream",
     "text": [
      "[100, 101, 102, 103, 104, 105, 106, 107, 108, 109, 110, 111, 112, 113, 114, 115, 116, 117, 118, 119, 120]\n"
     ]
    }
   ],
   "source": [
    "z2 = list(range(100, 121))\n",
    "print(z2)"
   ]
  },
  {
   "cell_type": "code",
   "execution_count": 36,
   "id": "c74b92f9-e9b0-4f18-94ce-2c53978aef2e",
   "metadata": {},
   "outputs": [
    {
     "name": "stdout",
     "output_type": "stream",
     "text": [
      "[100, 102, 104, 106, 108, 110]\n"
     ]
    }
   ],
   "source": [
    "# También podemos elegir el incremento\n",
    "w = list(range(100, 111, 2))\n",
    "print(w)"
   ]
  },
  {
   "cell_type": "code",
   "execution_count": 38,
   "id": "d65c77e0-1ddd-44af-b4ee-b222967afd2e",
   "metadata": {},
   "outputs": [
    {
     "name": "stdout",
     "output_type": "stream",
     "text": [
      "[100, 110, 120, 130, 140, 150, 160, 170, 180, 190, 200]\n"
     ]
    }
   ],
   "source": [
    "w2 = list(range(100, 201, 10))\n",
    "print(w2)"
   ]
  },
  {
   "cell_type": "markdown",
   "id": "b643b8e6-76d7-42fa-869d-b946e5d808c8",
   "metadata": {},
   "source": [
    "---"
   ]
  },
  {
   "cell_type": "code",
   "execution_count": 41,
   "id": "8d206776-0e1a-4c7a-bcbe-96c7717175ba",
   "metadata": {},
   "outputs": [
    {
     "name": "stdout",
     "output_type": "stream",
     "text": [
      "['a', 'b', 'c', 'd', 'e']\n"
     ]
    }
   ],
   "source": [
    "# Uso de corchetes rectangulares para acceder a la posición de un elemento\n",
    "q = [\"a\", \"b\", \"c\", \"d\", \"e\"]\n",
    "print(q)"
   ]
  },
  {
   "cell_type": "code",
   "execution_count": 43,
   "id": "cf0459b7-3d56-4e36-9ad2-95bfb7bf3bda",
   "metadata": {},
   "outputs": [
    {
     "name": "stdout",
     "output_type": "stream",
     "text": [
      "a\n"
     ]
    }
   ],
   "source": [
    "print(q[0])"
   ]
  },
  {
   "cell_type": "code",
   "execution_count": 45,
   "id": "1035c3b3-e00c-47f3-8fc9-a3ee5a7944c7",
   "metadata": {},
   "outputs": [
    {
     "name": "stdout",
     "output_type": "stream",
     "text": [
      "d\n"
     ]
    }
   ],
   "source": [
    "print(q[3])"
   ]
  },
  {
   "cell_type": "code",
   "execution_count": 49,
   "id": "2e073524-ae33-476c-a654-acd7dd2f85dd",
   "metadata": {},
   "outputs": [
    {
     "name": "stdout",
     "output_type": "stream",
     "text": [
      "5\n"
     ]
    }
   ],
   "source": [
    "# La función len nos da el número total de elementos\n",
    "print(len(q))"
   ]
  },
  {
   "cell_type": "code",
   "execution_count": 53,
   "id": "418cbde3-620d-4862-9f89-3a171d1793cf",
   "metadata": {},
   "outputs": [
    {
     "name": "stdout",
     "output_type": "stream",
     "text": [
      "['a', 'b', 'c', 'd', 'e']\n"
     ]
    }
   ],
   "source": [
    "# Podemos acceder a los elementos utilizando indexación negativa, esta empieza desde -1\n",
    "print(q)"
   ]
  },
  {
   "cell_type": "code",
   "execution_count": 55,
   "id": "8162fbaf-c5f3-4147-86c1-36e273eeae60",
   "metadata": {},
   "outputs": [
    {
     "name": "stdout",
     "output_type": "stream",
     "text": [
      "e\n"
     ]
    }
   ],
   "source": [
    "# 0 ,  1 ,  2 ,  3 ,  4\n",
    "#-5 , -4 , -3 , -2 , -1\n",
    "print(q[-1])"
   ]
  },
  {
   "cell_type": "code",
   "execution_count": 57,
   "id": "5e5f515d-dc32-4373-a197-dc406e35bde9",
   "metadata": {},
   "outputs": [
    {
     "name": "stdout",
     "output_type": "stream",
     "text": [
      "['a', 'b', 'c', 'd', 'e']\n"
     ]
    }
   ],
   "source": [
    "# Sobreescribir el valor de elementos\n",
    "print(q)"
   ]
  },
  {
   "cell_type": "code",
   "execution_count": 63,
   "id": "314f87f8-3740-41a2-b35d-da036356c458",
   "metadata": {},
   "outputs": [
    {
     "name": "stdout",
     "output_type": "stream",
     "text": [
      "['a', 'b', 29, 'd', 'e']\n"
     ]
    }
   ],
   "source": [
    "q[2] = 29\n",
    "print(q)"
   ]
  },
  {
   "cell_type": "markdown",
   "id": "93c20945-4adc-4772-9a50-6fd393ec0aa0",
   "metadata": {},
   "source": [
    "---"
   ]
  },
  {
   "cell_type": "code",
   "execution_count": 66,
   "id": "15634896-a8ae-4f47-bab1-b3ca018544d3",
   "metadata": {},
   "outputs": [
    {
     "name": "stdout",
     "output_type": "stream",
     "text": [
      "['a', 'b', 'c', 'd', 'e', 'f', 'g', 'h', 'i', 'j']\n"
     ]
    }
   ],
   "source": [
    "# Slicing de listas ':' y ': :'\n",
    "letras = [\"a\", \"b\", \"c\", \"d\", \"e\", \"f\", \"g\", \"h\", \"i\", \"j\"]\n",
    "print(letras)"
   ]
  },
  {
   "cell_type": "code",
   "execution_count": 68,
   "id": "9632d154-41dc-49ab-b992-cf84ea8508ef",
   "metadata": {},
   "outputs": [
    {
     "name": "stdout",
     "output_type": "stream",
     "text": [
      "['a', 'b', 'c', 'd', 'e', 'f', 'g', 'h', 'i', 'j']\n"
     ]
    }
   ],
   "source": [
    "print(letras[:])"
   ]
  },
  {
   "cell_type": "code",
   "execution_count": 70,
   "id": "f564739c-a00c-4460-8f0c-a0e506957371",
   "metadata": {},
   "outputs": [
    {
     "name": "stdout",
     "output_type": "stream",
     "text": [
      "['c', 'd', 'e', 'f', 'g', 'h', 'i', 'j']\n"
     ]
    }
   ],
   "source": [
    "print(letras[2:])"
   ]
  },
  {
   "cell_type": "code",
   "execution_count": 72,
   "id": "67f5cd8d-3c95-4f5a-8856-5bf3010da9c9",
   "metadata": {},
   "outputs": [
    {
     "name": "stdout",
     "output_type": "stream",
     "text": [
      "['c', 'd', 'e', 'f', 'g']\n"
     ]
    }
   ],
   "source": [
    "print(letras[2:7])"
   ]
  },
  {
   "cell_type": "code",
   "execution_count": 78,
   "id": "f0af7826-7a3a-4993-a616-0abf86004f78",
   "metadata": {},
   "outputs": [
    {
     "name": "stdout",
     "output_type": "stream",
     "text": [
      "['c', 'd', 'e', 'f', 'g']\n"
     ]
    }
   ],
   "source": [
    "# Podemos mezclar indexación negativa y positiva sin problema, donde -8 ocupa el mismo elemento que 2\n",
    "print(letras[-8:7])"
   ]
  },
  {
   "cell_type": "code",
   "execution_count": 76,
   "id": "ac16a0c3-48c5-4d17-b0c4-288fa899f93d",
   "metadata": {},
   "outputs": [
    {
     "name": "stdout",
     "output_type": "stream",
     "text": [
      "['c', 'd', 'e', 'f', 'g']\n"
     ]
    }
   ],
   "source": [
    "print(letras[-8:-3])"
   ]
  },
  {
   "cell_type": "markdown",
   "id": "3bbaa022-157f-470c-92ba-5354032d42b2",
   "metadata": {},
   "source": [
    "---"
   ]
  },
  {
   "cell_type": "code",
   "execution_count": 85,
   "id": "e2cf9112-cd33-4cb7-abe9-7c4ec1cefff5",
   "metadata": {},
   "outputs": [
    {
     "name": "stdout",
     "output_type": "stream",
     "text": [
      "['c', 'd', 'e', 'f', 'g', 'h', 'i']\n"
     ]
    }
   ],
   "source": [
    "# Slicing avanzado\n",
    "print(letras[2:9])"
   ]
  },
  {
   "cell_type": "code",
   "execution_count": 91,
   "id": "4a89802a-ca6a-483c-ad81-0f2c6758a37c",
   "metadata": {},
   "outputs": [
    {
     "name": "stdout",
     "output_type": "stream",
     "text": [
      "['c', 'e', 'g', 'i']\n"
     ]
    }
   ],
   "source": [
    "print(letras[2:9:2])"
   ]
  },
  {
   "cell_type": "code",
   "execution_count": 93,
   "id": "c397f0a4-97a6-4ff9-bf38-36f9be860392",
   "metadata": {},
   "outputs": [
    {
     "name": "stdout",
     "output_type": "stream",
     "text": [
      "['a', 'b', 'c', 'd', 'e', 'f', 'g', 'h', 'i', 'j']\n"
     ]
    }
   ],
   "source": [
    "print(letras)"
   ]
  },
  {
   "cell_type": "code",
   "execution_count": 89,
   "id": "e4428968-9826-4316-903c-c95cc0937841",
   "metadata": {},
   "outputs": [
    {
     "name": "stdout",
     "output_type": "stream",
     "text": [
      "['a', 'd', 'g', 'j']\n"
     ]
    }
   ],
   "source": [
    "print(letras[::3])"
   ]
  },
  {
   "cell_type": "markdown",
   "id": "7f4dc74e-5368-45f6-818c-515a5fdbe716",
   "metadata": {},
   "source": [
    "---"
   ]
  },
  {
   "cell_type": "code",
   "execution_count": 97,
   "id": "107661dd-5ed3-4471-9a0a-184623e70ba1",
   "metadata": {},
   "outputs": [
    {
     "name": "stdout",
     "output_type": "stream",
     "text": [
      "['j', 'i', 'h', 'g', 'f', 'e', 'd', 'c', 'b', 'a']\n"
     ]
    }
   ],
   "source": [
    "# Utilizando salto negativo\n",
    "print(letras[::-1])"
   ]
  },
  {
   "cell_type": "code",
   "execution_count": 102,
   "id": "23b16f56-395c-40ce-b25e-b995c6a4f532",
   "metadata": {},
   "outputs": [
    {
     "name": "stdout",
     "output_type": "stream",
     "text": [
      "['c', 'd', 'e', 'f', 'g']\n"
     ]
    }
   ],
   "source": [
    "print(letras[2:7])"
   ]
  },
  {
   "cell_type": "code",
   "execution_count": 104,
   "id": "0a2d4e17-c35e-4381-b139-4a45170cb9ac",
   "metadata": {},
   "outputs": [
    {
     "name": "stdout",
     "output_type": "stream",
     "text": [
      "[]\n"
     ]
    }
   ],
   "source": [
    "print(letras[2:7:-1]) # No puede llegar del elemento \"c\" al elemento \"g\" con salto -1"
   ]
  },
  {
   "cell_type": "code",
   "execution_count": 106,
   "id": "33c81759-f9a7-4ffa-b12b-c6798788496a",
   "metadata": {},
   "outputs": [
    {
     "name": "stdout",
     "output_type": "stream",
     "text": [
      "['g', 'f', 'e', 'd', 'c']\n"
     ]
    }
   ],
   "source": [
    "print(letras[6:1:-1]) # Pero si puede a la inversa, llegar de \"g\" a \"c\" con salto -1"
   ]
  },
  {
   "cell_type": "code",
   "execution_count": 110,
   "id": "04994d11-6d27-49ae-8ce4-eb89139c1550",
   "metadata": {},
   "outputs": [
    {
     "name": "stdout",
     "output_type": "stream",
     "text": [
      "['a', 'b', 'c', 'd', 'e', 'f', 'g', 'h', 'i', 'j']\n"
     ]
    }
   ],
   "source": [
    "# [2:7] el primer valor, en este caso 2, es inclusivo. El segundo valor, en este caso 7, no es inclusivo.\n",
    "print(letras) # imprimiriamos los elementos de la \"c\" que es el elemento 2, hasta la \"g\" que es el elemento 6.\n",
    "# 0 ,  1 ,  2 ,  3 ,  4 ,  5 ,  6 ,  7 ,  8 ,  9"
   ]
  },
  {
   "cell_type": "code",
   "execution_count": null,
   "id": "2f636455-84a7-43e3-a2f3-7fcb7323142d",
   "metadata": {},
   "outputs": [],
   "source": []
  }
 ],
 "metadata": {
  "kernelspec": {
   "display_name": "Python 3 (ipykernel)",
   "language": "python",
   "name": "python3"
  },
  "language_info": {
   "codemirror_mode": {
    "name": "ipython",
    "version": 3
   },
   "file_extension": ".py",
   "mimetype": "text/x-python",
   "name": "python",
   "nbconvert_exporter": "python",
   "pygments_lexer": "ipython3",
   "version": "3.12.4"
  }
 },
 "nbformat": 4,
 "nbformat_minor": 5
}
