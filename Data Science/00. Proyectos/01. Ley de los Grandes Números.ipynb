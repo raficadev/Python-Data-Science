{
 "cells": [
  {
   "cell_type": "markdown",
   "id": "a7ac9185-eb9c-4bf9-8d4a-a98f3fdc5d7b",
   "metadata": {},
   "source": [
    "# Ley de los Grandes Números"
   ]
  },
  {
   "cell_type": "code",
   "execution_count": 1,
   "id": "963c0078-9c11-4009-83a2-c88bbf055ea2",
   "metadata": {},
   "outputs": [],
   "source": [
    "import numpy as np\n",
    "from numpy.random import randn"
   ]
  },
  {
   "cell_type": "code",
   "execution_count": 5,
   "id": "1d3eb83d-a699-4a34-8411-d630cd350990",
   "metadata": {},
   "outputs": [
    {
     "name": "stdout",
     "output_type": "stream",
     "text": [
      "0.6821\n"
     ]
    }
   ],
   "source": [
    "N = 100                            # especifica el tamaño de la muestra\n",
    "contador = 0                       # reinicia el contador\n",
    "for i in randn(N):                 # itera sobre valores aleatorios\n",
    "    if(i > -1 and i < 1):          # revisa donde cae la variable de la iteración\n",
    "        contador = contador + 1    # incrementa el contador si la condición if se cumple\n",
    "respuesta = contador / N           # calcula el ratio de éxitos\n",
    "print(respuesta)                   # imprime la respuesta"
   ]
  },
  {
   "cell_type": "code",
   "execution_count": null,
   "id": "50c2b787-e016-459b-8f78-a8893b1ae7d1",
   "metadata": {},
   "outputs": [],
   "source": []
  }
 ],
 "metadata": {
  "kernelspec": {
   "display_name": "Python 3 (ipykernel)",
   "language": "python",
   "name": "python3"
  },
  "language_info": {
   "codemirror_mode": {
    "name": "ipython",
    "version": 3
   },
   "file_extension": ".py",
   "mimetype": "text/x-python",
   "name": "python",
   "nbconvert_exporter": "python",
   "pygments_lexer": "ipython3",
   "version": "3.12.4"
  }
 },
 "nbformat": 4,
 "nbformat_minor": 5
}
