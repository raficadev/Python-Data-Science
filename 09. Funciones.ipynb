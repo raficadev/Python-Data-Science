{
 "cells": [
  {
   "cell_type": "code",
   "execution_count": 3,
   "id": "83a3043a-5535-4a52-bf3b-19081f5b849c",
   "metadata": {},
   "outputs": [
    {
     "data": {
      "text/plain": [
       "range(20, 31)"
      ]
     },
     "execution_count": 3,
     "metadata": {},
     "output_type": "execute_result"
    }
   ],
   "source": [
    "range(20, 31)"
   ]
  },
  {
   "cell_type": "code",
   "execution_count": 5,
   "id": "8c284465-8b70-4843-bab0-98db7cade258",
   "metadata": {},
   "outputs": [
    {
     "data": {
      "text/plain": [
       "[20, 21, 22, 23, 24, 25, 26, 27, 28, 29, 30]"
      ]
     },
     "execution_count": 5,
     "metadata": {},
     "output_type": "execute_result"
    }
   ],
   "source": [
    "list(range(20, 31))"
   ]
  },
  {
   "cell_type": "code",
   "execution_count": 9,
   "id": "736b0ce9-280a-41b7-8e59-a319f7caafdb",
   "metadata": {},
   "outputs": [
    {
     "name": "stdout",
     "output_type": "stream",
     "text": [
      "[20, 21, 22, 23, 24, 25, 26, 27, 28, 29, 30]\n"
     ]
    }
   ],
   "source": [
    "MiLista1 = list(range(20, 31))\n",
    "print(MiLista1)"
   ]
  },
  {
   "cell_type": "code",
   "execution_count": 11,
   "id": "700d74c1-f737-4be7-a0be-c9ac3b1858dc",
   "metadata": {},
   "outputs": [
    {
     "data": {
      "text/plain": [
       "11"
      ]
     },
     "execution_count": 11,
     "metadata": {},
     "output_type": "execute_result"
    }
   ],
   "source": [
    "len(MiLista1)"
   ]
  },
  {
   "cell_type": "code",
   "execution_count": 13,
   "id": "db40a692-0d26-4d70-bb1d-4464689b4292",
   "metadata": {},
   "outputs": [
    {
     "data": {
      "text/plain": [
       "list"
      ]
     },
     "execution_count": 13,
     "metadata": {},
     "output_type": "execute_result"
    }
   ],
   "source": [
    "type(MiLista1)"
   ]
  },
  {
   "cell_type": "code",
   "execution_count": 15,
   "id": "dbb518dc-aa58-420c-b10d-082b70de9ce3",
   "metadata": {},
   "outputs": [
    {
     "data": {
      "text/plain": [
       "30"
      ]
     },
     "execution_count": 15,
     "metadata": {},
     "output_type": "execute_result"
    }
   ],
   "source": [
    "max(MiLista1)"
   ]
  },
  {
   "cell_type": "code",
   "execution_count": 17,
   "id": "a9cf34ed-d543-4e7a-a005-02df1863925d",
   "metadata": {},
   "outputs": [
    {
     "data": {
      "text/plain": [
       "20"
      ]
     },
     "execution_count": 17,
     "metadata": {},
     "output_type": "execute_result"
    }
   ],
   "source": [
    "min(MiLista1)"
   ]
  },
  {
   "cell_type": "code",
   "execution_count": null,
   "id": "853c4bce-1ba4-4a1f-934e-866320d2e61a",
   "metadata": {},
   "outputs": [],
   "source": []
  }
 ],
 "metadata": {
  "kernelspec": {
   "display_name": "Python 3 (ipykernel)",
   "language": "python",
   "name": "python3"
  },
  "language_info": {
   "codemirror_mode": {
    "name": "ipython",
    "version": 3
   },
   "file_extension": ".py",
   "mimetype": "text/x-python",
   "name": "python",
   "nbconvert_exporter": "python",
   "pygments_lexer": "ipython3",
   "version": "3.12.4"
  }
 },
 "nbformat": 4,
 "nbformat_minor": 5
}
