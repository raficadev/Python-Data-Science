{
 "cells": [
  {
   "cell_type": "code",
   "execution_count": 3,
   "id": "76081482-54ea-4151-ae77-ec6c92766d0c",
   "metadata": {},
   "outputs": [],
   "source": [
    "# Booleanos / Lógicos\n",
    "# True & False"
   ]
  },
  {
   "cell_type": "code",
   "execution_count": 4,
   "id": "41f7ec71-af0d-4cae-894b-d1e928b040e8",
   "metadata": {},
   "outputs": [
    {
     "data": {
      "text/plain": [
       "True"
      ]
     },
     "execution_count": 4,
     "metadata": {},
     "output_type": "execute_result"
    }
   ],
   "source": [
    "4 < 5"
   ]
  },
  {
   "cell_type": "code",
   "execution_count": 5,
   "id": "c6d55117-4a4e-422d-8b06-f83449a7a2fa",
   "metadata": {},
   "outputs": [
    {
     "data": {
      "text/plain": [
       "False"
      ]
     },
     "execution_count": 5,
     "metadata": {},
     "output_type": "execute_result"
    }
   ],
   "source": [
    "10 > 100"
   ]
  },
  {
   "cell_type": "code",
   "execution_count": 6,
   "id": "5c7c9c9d-d17a-4c32-8420-8f5866bb6d2d",
   "metadata": {},
   "outputs": [
    {
     "data": {
      "text/plain": [
       "False"
      ]
     },
     "execution_count": 6,
     "metadata": {},
     "output_type": "execute_result"
    }
   ],
   "source": [
    "4 == 5"
   ]
  },
  {
   "cell_type": "code",
   "execution_count": 7,
   "id": "812f5eca-93c8-4656-a960-db23b524b17e",
   "metadata": {},
   "outputs": [
    {
     "data": {
      "text/plain": [
       "True"
      ]
     },
     "execution_count": 7,
     "metadata": {},
     "output_type": "execute_result"
    }
   ],
   "source": [
    "3 == 3"
   ]
  },
  {
   "cell_type": "markdown",
   "id": "7bb205e5-dcdc-40bf-92b8-5f445d3f9e3c",
   "metadata": {},
   "source": [
    "---"
   ]
  },
  {
   "cell_type": "code",
   "execution_count": 11,
   "id": "63365ea5-0b6e-4a71-8cbb-8ddbad43d090",
   "metadata": {},
   "outputs": [],
   "source": [
    "# == igual\n",
    "# != diferente\n",
    "# < menor a\n",
    "# > mayor a\n",
    "# <= menor o igual a\n",
    "# >= mayor o igual a\n",
    "# and\n",
    "# or\n",
    "# not"
   ]
  },
  {
   "cell_type": "markdown",
   "id": "597903a3-3671-40f5-a96a-5395fe549b8e",
   "metadata": {},
   "source": [
    "---"
   ]
  },
  {
   "cell_type": "code",
   "execution_count": 1,
   "id": "5d5d3b7a-d555-462e-bc58-46df4db041b9",
   "metadata": {},
   "outputs": [
    {
     "name": "stdout",
     "output_type": "stream",
     "text": [
      "True\n"
     ]
    }
   ],
   "source": [
    "resultado = 4 < 5\n",
    "print(resultado)"
   ]
  },
  {
   "cell_type": "code",
   "execution_count": 3,
   "id": "bd079c5c-8841-43e4-83a3-eae542a581f6",
   "metadata": {},
   "outputs": [
    {
     "data": {
      "text/plain": [
       "bool"
      ]
     },
     "execution_count": 3,
     "metadata": {},
     "output_type": "execute_result"
    }
   ],
   "source": [
    "type(resultado)"
   ]
  },
  {
   "cell_type": "code",
   "execution_count": 5,
   "id": "98617404-a399-4d08-987e-b0d360e7d37d",
   "metadata": {},
   "outputs": [
    {
     "name": "stdout",
     "output_type": "stream",
     "text": [
      "False\n"
     ]
    }
   ],
   "source": [
    "resultado2 = not(5 > 1)\n",
    "print(resultado2)"
   ]
  },
  {
   "cell_type": "markdown",
   "id": "734acbb4-437b-40b5-9d50-13127014b97b",
   "metadata": {},
   "source": [
    "---"
   ]
  },
  {
   "cell_type": "code",
   "execution_count": 21,
   "id": "5784df99-8fa5-4b90-971b-b327eec865b2",
   "metadata": {},
   "outputs": [
    {
     "data": {
      "text/plain": [
       "True"
      ]
     },
     "execution_count": 21,
     "metadata": {},
     "output_type": "execute_result"
    }
   ],
   "source": [
    "resultado or resultado2\n",
    "# Si una de las variables es True, el resultado será True"
   ]
  },
  {
   "cell_type": "code",
   "execution_count": 7,
   "id": "3ddc0087-787e-4454-b464-c72718f5e54f",
   "metadata": {},
   "outputs": [
    {
     "data": {
      "text/plain": [
       "False"
      ]
     },
     "execution_count": 7,
     "metadata": {},
     "output_type": "execute_result"
    }
   ],
   "source": [
    "resultado and resultado2\n",
    "# Si todas las variables son True, el resultado será True."
   ]
  },
  {
   "cell_type": "code",
   "execution_count": null,
   "id": "599d9919-5fe3-4e35-b5a7-a36df28767f9",
   "metadata": {},
   "outputs": [],
   "source": []
  }
 ],
 "metadata": {
  "kernelspec": {
   "display_name": "Python 3 (ipykernel)",
   "language": "python",
   "name": "python3"
  },
  "language_info": {
   "codemirror_mode": {
    "name": "ipython",
    "version": 3
   },
   "file_extension": ".py",
   "mimetype": "text/x-python",
   "name": "python",
   "nbconvert_exporter": "python",
   "pygments_lexer": "ipython3",
   "version": "3.12.4"
  }
 },
 "nbformat": 4,
 "nbformat_minor": 5
}
