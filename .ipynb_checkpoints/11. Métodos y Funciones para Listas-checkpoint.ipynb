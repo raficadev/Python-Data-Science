{
 "cells": [
  {
   "cell_type": "code",
   "execution_count": 1,
   "id": "a598d6f6-329c-486d-a414-36e1d1d59329",
   "metadata": {},
   "outputs": [],
   "source": [
    "a = [2, 4, 6]\n",
    "b = [5, 10, 15]"
   ]
  },
  {
   "cell_type": "code",
   "execution_count": 3,
   "id": "38708fcd-53de-4ba0-9da7-82e50834a016",
   "metadata": {},
   "outputs": [
    {
     "name": "stdout",
     "output_type": "stream",
     "text": [
      "[10, 40, 90]\n"
     ]
    }
   ],
   "source": [
    "# Multiplicar los valores de dos listas entre ellos\n",
    "\n",
    "ab = []\n",
    "\n",
    "for i in range(0, len(a)):\n",
    "    ab.append(a[i] * b[i])\n",
    "print(ab)"
   ]
  },
  {
   "cell_type": "code",
   "execution_count": 7,
   "id": "77158929-2f1d-4ca9-b654-14a9c35447fd",
   "metadata": {},
   "outputs": [
    {
     "name": "stdout",
     "output_type": "stream",
     "text": [
      "[4, 8, 12]\n"
     ]
    }
   ],
   "source": [
    "# También podemos multiplicar los valores de una sola lista mediante iteración\n",
    "\n",
    "a_duplicada = [i * 2 for i in a]\n",
    "print(a_duplicada)"
   ]
  },
  {
   "cell_type": "code",
   "execution_count": null,
   "id": "356b74a6-d524-4aff-b82f-f8a1b769c73d",
   "metadata": {},
   "outputs": [],
   "source": []
  }
 ],
 "metadata": {
  "kernelspec": {
   "display_name": "Python 3 (ipykernel)",
   "language": "python",
   "name": "python3"
  },
  "language_info": {
   "codemirror_mode": {
    "name": "ipython",
    "version": 3
   },
   "file_extension": ".py",
   "mimetype": "text/x-python",
   "name": "python",
   "nbconvert_exporter": "python",
   "pygments_lexer": "ipython3",
   "version": "3.12.4"
  }
 },
 "nbformat": 4,
 "nbformat_minor": 5
}
