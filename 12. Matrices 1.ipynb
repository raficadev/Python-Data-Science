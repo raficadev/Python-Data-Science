{
 "cells": [
  {
   "cell_type": "code",
   "execution_count": 1,
   "id": "1c729665-46d1-4faa-b2e5-eed3c336d9f1",
   "metadata": {},
   "outputs": [
    {
     "name": "stdout",
     "output_type": "stream",
     "text": [
      "[ 0  1  2  3  4  5  6  7  8  9 10 11 12 13 14 15 16 17 18 19]\n"
     ]
    }
   ],
   "source": [
    "import numpy as np\n",
    "\n",
    "mis_datos = np.arange(0, 20)\n",
    "print(mis_datos)"
   ]
  },
  {
   "cell_type": "code",
   "execution_count": 7,
   "id": "4185e6fe-0416-430e-b780-f6adda34ee48",
   "metadata": {},
   "outputs": [
    {
     "name": "stdout",
     "output_type": "stream",
     "text": [
      "[[ 0  1  2  3]\n",
      " [ 4  5  6  7]\n",
      " [ 8  9 10 11]\n",
      " [12 13 14 15]\n",
      " [16 17 18 19]]\n"
     ]
    }
   ],
   "source": [
    "# De forma predeterminada sigue el orden de filas para rellenar los datos\n",
    "# matr1 = np.reshape(mis_datos, (5, 4), order = 'C') el siguiente código es el predeterminado\n",
    "matr1 = np.reshape(mis_datos, (5, 4))\n",
    "print(matr1)"
   ]
  },
  {
   "cell_type": "code",
   "execution_count": 9,
   "id": "79f7a5c0-9700-4218-81d7-32a9c1ee1114",
   "metadata": {},
   "outputs": [
    {
     "name": "stdout",
     "output_type": "stream",
     "text": [
      "9\n"
     ]
    }
   ],
   "source": [
    "# Seleccionar valor deseado, en este caso será el 9\n",
    "# Primero el valor de la columa y luego el de la fila, teniendo en cuenta que empiezan en la posición 0 las dos\n",
    "print(matr1[2, 1])"
   ]
  },
  {
   "cell_type": "code",
   "execution_count": 11,
   "id": "faec73b0-36ff-455b-a2b5-ecb3e41f957d",
   "metadata": {},
   "outputs": [
    {
     "name": "stdout",
     "output_type": "stream",
     "text": [
      "[[ 0  5 10 15]\n",
      " [ 1  6 11 16]\n",
      " [ 2  7 12 17]\n",
      " [ 3  8 13 18]\n",
      " [ 4  9 14 19]]\n"
     ]
    }
   ],
   "source": [
    "# Con el siguiente código sigue el orden de columnas para rellenar los datos\n",
    "matr2 = np.reshape(mis_datos, (5, 4), order = 'F')\n",
    "print(matr2)"
   ]
  },
  {
   "cell_type": "code",
   "execution_count": 13,
   "id": "237531fa-8c32-4e1d-ab98-7d7296082f59",
   "metadata": {},
   "outputs": [
    {
     "name": "stdout",
     "output_type": "stream",
     "text": [
      "9\n"
     ]
    }
   ],
   "source": [
    "# Ahora para seleccionar el valor 9\n",
    "print(matr2[4, 1])"
   ]
  },
  {
   "cell_type": "markdown",
   "id": "80969056-e800-4d37-9fde-9d99461b9194",
   "metadata": {},
   "source": [
    "---"
   ]
  },
  {
   "cell_type": "code",
   "execution_count": 22,
   "id": "d1d1895b-bfa2-4c06-83f5-f4796f47e1d3",
   "metadata": {},
   "outputs": [
    {
     "name": "stdout",
     "output_type": "stream",
     "text": [
      "<class 'numpy.ndarray'>\n"
     ]
    }
   ],
   "source": [
    "# Concepto POO\n",
    "# np.reshape(mis_datos, (5, 4))\n",
    "print(type(mis_datos))"
   ]
  },
  {
   "cell_type": "code",
   "execution_count": 26,
   "id": "278aa0f4-751d-40e8-ac61-017013bac7a7",
   "metadata": {},
   "outputs": [
    {
     "name": "stdout",
     "output_type": "stream",
     "text": [
      "[[ 0  1  2  3]\n",
      " [ 4  5  6  7]\n",
      " [ 8  9 10 11]\n",
      " [12 13 14 15]\n",
      " [16 17 18 19]]\n"
     ]
    }
   ],
   "source": [
    "print(mis_datos.reshape(5, 4))"
   ]
  },
  {
   "cell_type": "markdown",
   "id": "0a15fe04-5e43-4521-ba2a-32cbb0e79823",
   "metadata": {},
   "source": [
    "---"
   ]
  },
  {
   "cell_type": "code",
   "execution_count": 29,
   "id": "d1394434-2f28-4a63-b3d1-b1c35877f9d6",
   "metadata": {},
   "outputs": [],
   "source": [
    "r1 = [\"Soy\", \"muy\", \"feliz\"]\n",
    "r2 = [\"Que\", \"gran\", \"día\"]\n",
    "r3 = [1, 2, 3]"
   ]
  },
  {
   "cell_type": "code",
   "execution_count": 35,
   "id": "d3430f44-06d1-48f2-af78-d0450f3bd41d",
   "metadata": {},
   "outputs": [
    {
     "name": "stdout",
     "output_type": "stream",
     "text": [
      "[['Soy', 'muy', 'feliz'], ['Que', 'gran', 'día'], [1, 2, 3]]\n"
     ]
    }
   ],
   "source": [
    "print([r1, r2, r3])"
   ]
  },
  {
   "cell_type": "code",
   "execution_count": 39,
   "id": "92db2c20-e74e-483c-bd10-ad983da2d81b",
   "metadata": {},
   "outputs": [
    {
     "name": "stdout",
     "output_type": "stream",
     "text": [
      "[['Soy' 'muy' 'feliz']\n",
      " ['Que' 'gran' 'día']\n",
      " ['1' '2' '3']]\n"
     ]
    }
   ],
   "source": [
    "print(np.array([r1, r2, r3]))"
   ]
  },
  {
   "cell_type": "markdown",
   "id": "281cb515-7dec-4ecb-add5-f8d63fa32c48",
   "metadata": {},
   "source": [
    "---"
   ]
  },
  {
   "cell_type": "code",
   "execution_count": 48,
   "id": "215a6499-9536-4c82-b61d-783309a51727",
   "metadata": {},
   "outputs": [],
   "source": [
    "dicc1 = {\"clave1\": \"valor1\", \"clave2\": \"valor2\", \"clave3\": \"valor3\"}"
   ]
  },
  {
   "cell_type": "code",
   "execution_count": 46,
   "id": "3884e383-40ad-4db5-b00f-6bafb9a726d6",
   "metadata": {},
   "outputs": [
    {
     "name": "stdout",
     "output_type": "stream",
     "text": [
      "valor2\n"
     ]
    }
   ],
   "source": [
    "# En los diccionarios la forma de acceder a los valores es mediante la clave\n",
    "# No usaremos print(dicc1[1]) para acceder al valor2\n",
    "print(dicc1[\"clave2\"])"
   ]
  },
  {
   "cell_type": "code",
   "execution_count": 50,
   "id": "7e932ed8-bde7-47c3-a40b-6dc48acf3c5a",
   "metadata": {},
   "outputs": [
    {
     "name": "stdout",
     "output_type": "stream",
     "text": [
      "Valor España\n",
      "True\n",
      "2\n"
     ]
    }
   ],
   "source": [
    "dicc2 = {\"España\": \"Valor España\", \"Francia\": 2, \"Italia\": True}\n",
    "print(dicc2[\"España\"])\n",
    "print(dicc2[\"Italia\"])\n",
    "print(dicc2[\"Francia\"])"
   ]
  },
  {
   "cell_type": "code",
   "execution_count": null,
   "id": "efa0c342-02b4-47e7-bcdc-b417098afe35",
   "metadata": {},
   "outputs": [],
   "source": []
  }
 ],
 "metadata": {
  "kernelspec": {
   "display_name": "Python 3 (ipykernel)",
   "language": "python",
   "name": "python3"
  },
  "language_info": {
   "codemirror_mode": {
    "name": "ipython",
    "version": 3
   },
   "file_extension": ".py",
   "mimetype": "text/x-python",
   "name": "python",
   "nbconvert_exporter": "python",
   "pygments_lexer": "ipython3",
   "version": "3.12.4"
  }
 },
 "nbformat": 4,
 "nbformat_minor": 5
}
