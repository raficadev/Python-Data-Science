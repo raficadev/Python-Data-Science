{
 "cells": [
  {
   "cell_type": "code",
   "execution_count": 2,
   "id": "e8bb77d9-6951-45d3-8520-15b7d96d4e56",
   "metadata": {},
   "outputs": [],
   "source": [
    "# Integer / Número entero\n",
    "x = 2"
   ]
  },
  {
   "cell_type": "code",
   "execution_count": 3,
   "id": "af3cfa7c-d6da-4fb1-9e07-213f5c5c4289",
   "metadata": {},
   "outputs": [
    {
     "name": "stdout",
     "output_type": "stream",
     "text": [
      "2\n",
      "<class 'int'>\n"
     ]
    }
   ],
   "source": [
    "print(x)\n",
    "print(type(x))"
   ]
  },
  {
   "cell_type": "markdown",
   "id": "13d3f45a-15d4-4bee-ba3e-47d995b06d8d",
   "metadata": {},
   "source": [
    "---"
   ]
  },
  {
   "cell_type": "code",
   "execution_count": 4,
   "id": "c288b595-97ae-4e5a-b6a5-33b213bef841",
   "metadata": {},
   "outputs": [],
   "source": [
    "# Float / Número decimal\n",
    "y = 2.5"
   ]
  },
  {
   "cell_type": "code",
   "execution_count": 5,
   "id": "94f602d6-ee06-43e8-bfc4-3e6f1bb30521",
   "metadata": {},
   "outputs": [
    {
     "name": "stdout",
     "output_type": "stream",
     "text": [
      "2.5\n",
      "<class 'float'>\n"
     ]
    }
   ],
   "source": [
    "print(y)\n",
    "print(type(y))"
   ]
  },
  {
   "cell_type": "markdown",
   "id": "26ff19f8-4113-4d49-9ab4-96ab8abde718",
   "metadata": {},
   "source": [
    "---"
   ]
  },
  {
   "cell_type": "code",
   "execution_count": 6,
   "id": "07c67526-c709-4e5e-ada2-0788b66de66d",
   "metadata": {},
   "outputs": [],
   "source": [
    "# String / Cadena de texto\n",
    "a = \"Hola mundo\"\n",
    "b = '2'"
   ]
  },
  {
   "cell_type": "code",
   "execution_count": 7,
   "id": "748d1f1e-f381-4765-b62a-f44036ba333a",
   "metadata": {},
   "outputs": [
    {
     "name": "stdout",
     "output_type": "stream",
     "text": [
      "Hola mundo\n",
      "<class 'str'>\n",
      "2\n",
      "<class 'str'>\n"
     ]
    }
   ],
   "source": [
    "print(a)\n",
    "print(type(a))\n",
    "print(b)\n",
    "print(type(b))"
   ]
  },
  {
   "cell_type": "markdown",
   "id": "2814e46a-563a-49a7-8fae-46f0c23fb1a3",
   "metadata": {},
   "source": [
    "---"
   ]
  },
  {
   "cell_type": "code",
   "execution_count": 9,
   "id": "268893c0-d1fb-4763-acab-1433ef283b1b",
   "metadata": {},
   "outputs": [],
   "source": [
    "# Booleano / Lógico\n",
    "p1 = True\n",
    "p2 = False"
   ]
  },
  {
   "cell_type": "code",
   "execution_count": 10,
   "id": "1cbf8e38-0f72-4172-9f55-6791e7a75b81",
   "metadata": {},
   "outputs": [
    {
     "name": "stdout",
     "output_type": "stream",
     "text": [
      "True\n",
      "<class 'bool'>\n",
      "False\n",
      "<class 'bool'>\n"
     ]
    }
   ],
   "source": [
    "print(p1)\n",
    "print(type(p1))\n",
    "print(p2)\n",
    "print(type(p2))"
   ]
  }
 ],
 "metadata": {
  "kernelspec": {
   "display_name": "Python 3 (ipykernel)",
   "language": "python",
   "name": "python3"
  },
  "language_info": {
   "codemirror_mode": {
    "name": "ipython",
    "version": 3
   },
   "file_extension": ".py",
   "mimetype": "text/x-python",
   "name": "python",
   "nbconvert_exporter": "python",
   "pygments_lexer": "ipython3",
   "version": "3.12.4"
  }
 },
 "nbformat": 4,
 "nbformat_minor": 5
}
