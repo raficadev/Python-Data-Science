{
 "cells": [
  {
   "cell_type": "code",
   "execution_count": 4,
   "id": "03e34368-1d83-4a0a-b124-5a1851babfdd",
   "metadata": {},
   "outputs": [],
   "source": [
    "import numpy as np\n",
    "from numpy.random import randn"
   ]
  },
  {
   "cell_type": "code",
   "execution_count": 6,
   "id": "cf6e8741-d957-42d3-a68d-110301b3315b",
   "metadata": {},
   "outputs": [
    {
     "data": {
      "text/plain": [
       "-1.6674530504740155"
      ]
     },
     "execution_count": 6,
     "metadata": {},
     "output_type": "execute_result"
    }
   ],
   "source": [
    "randn()"
   ]
  },
  {
   "cell_type": "code",
   "execution_count": 18,
   "id": "cec70111-442e-4a1c-b799-2abac95a11b0",
   "metadata": {},
   "outputs": [
    {
     "name": "stdout",
     "output_type": "stream",
     "text": [
      "-0.1255699402012496\n",
      "None\n"
     ]
    }
   ],
   "source": [
    "# Condicional if\n",
    "# ---- -2 ---- -1 ---- 0 ---- 1 ---- 2 ----\n",
    "x = randn()\n",
    "respuesta = None\n",
    "if x > 1:\n",
    "    respuesta = \"Mayor que 1\"\n",
    "print(x)\n",
    "print(respuesta)"
   ]
  },
  {
   "cell_type": "code",
   "execution_count": 20,
   "id": "05bad044-9325-43ed-8923-d699368f5546",
   "metadata": {},
   "outputs": [
    {
     "name": "stdout",
     "output_type": "stream",
     "text": [
      "0.09455682984081018\n",
      "Menor que 1\n"
     ]
    }
   ],
   "source": [
    "# Condicional else\n",
    "# ---- -2 ---- -1 ---- 0 ---- 1 ---- 2 ----\n",
    "x = randn()\n",
    "respuesta = None\n",
    "if x > 1:\n",
    "    respuesta = \"Mayor que 1\"\n",
    "else:\n",
    "    respuesta = \"Menor que 1\"\n",
    "print(x)\n",
    "print(respuesta)"
   ]
  },
  {
   "cell_type": "code",
   "execution_count": 22,
   "id": "de4c8268-2c46-4cf6-8702-0ba9281896de",
   "metadata": {},
   "outputs": [
    {
     "name": "stdout",
     "output_type": "stream",
     "text": [
      "-0.30889977350716213\n",
      "Entre -1 y 1\n"
     ]
    }
   ],
   "source": [
    "# Condicionales anidados\n",
    "# ---- -2 ---- -1 ---- 0 ---- 1 ---- 2 ----\n",
    "x = randn()\n",
    "respuesta = None\n",
    "if x > 1:\n",
    "    respuesta = \"Mayor que 1\"\n",
    "else:\n",
    "    if x > -1:\n",
    "        respuesta = \"Entre -1 y 1\"\n",
    "    else:\n",
    "        respuesta = \"Menor que -1\"\n",
    "print(x)\n",
    "print(respuesta)"
   ]
  },
  {
   "cell_type": "code",
   "execution_count": 24,
   "id": "214adea0-1a63-4fe1-ac18-d4b1b46dd5ab",
   "metadata": {},
   "outputs": [
    {
     "name": "stdout",
     "output_type": "stream",
     "text": [
      "-0.7056990713360822\n",
      "Entre -1 y 1\n"
     ]
    }
   ],
   "source": [
    "# Condicionales encadenados\n",
    "# ---- -2 ---- -1 ---- 0 ---- 1 ---- 2 ----\n",
    "x = randn()\n",
    "respuesta = None\n",
    "if x > 1:\n",
    "    respuesta = \"Mayor que 1\"\n",
    "elif x > -1:\n",
    "    respuesta = \"Entre -1 y 1\"\n",
    "else:\n",
    "    respuesta = \"Menor que -1\"\n",
    "print(x)\n",
    "print(respuesta)"
   ]
  },
  {
   "cell_type": "code",
   "execution_count": null,
   "id": "048baa2d-9b8f-408e-9c7f-016883aedb71",
   "metadata": {},
   "outputs": [],
   "source": []
  }
 ],
 "metadata": {
  "kernelspec": {
   "display_name": "Python 3 (ipykernel)",
   "language": "python",
   "name": "python3"
  },
  "language_info": {
   "codemirror_mode": {
    "name": "ipython",
    "version": 3
   },
   "file_extension": ".py",
   "mimetype": "text/x-python",
   "name": "python",
   "nbconvert_exporter": "python",
   "pygments_lexer": "ipython3",
   "version": "3.12.4"
  }
 },
 "nbformat": 4,
 "nbformat_minor": 5
}
