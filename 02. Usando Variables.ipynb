{
 "cells": [
  {
   "cell_type": "code",
   "execution_count": 1,
   "id": "35d0cd7a-d79b-41ef-a340-f7a3cf22f13b",
   "metadata": {},
   "outputs": [],
   "source": [
    "# Aritmética\n",
    "A = 10\n",
    "B = 5\n",
    "C = A + B\n"
   ]
  },
  {
   "cell_type": "code",
   "execution_count": 2,
   "id": "13f123f4-6748-42ed-ac12-7d58baad8194",
   "metadata": {},
   "outputs": [
    {
     "name": "stdout",
     "output_type": "stream",
     "text": [
      "15\n",
      "<class 'int'>\n"
     ]
    }
   ],
   "source": [
    "print(C)\n",
    "print(type(C))"
   ]
  },
  {
   "cell_type": "code",
   "execution_count": 4,
   "id": "62c15b25-b2e5-43af-8f5a-b2a690da8cdc",
   "metadata": {},
   "outputs": [
    {
     "name": "stdout",
     "output_type": "stream",
     "text": [
      "0.5\n",
      "<class 'float'>\n"
     ]
    }
   ],
   "source": [
    "D = B / A\n",
    "print(D)\n",
    "print(type(D))"
   ]
  },
  {
   "cell_type": "markdown",
   "id": "d362927e-cf50-495e-bb31-f40dfbbce45c",
   "metadata": {},
   "source": [
    "---"
   ]
  },
  {
   "cell_type": "code",
   "execution_count": 7,
   "id": "d137b0b4-2986-435b-9f07-2ad3dca7b5c4",
   "metadata": {},
   "outputs": [
    {
     "name": "stdout",
     "output_type": "stream",
     "text": [
      "3.1622776601683795\n"
     ]
    }
   ],
   "source": [
    "# Importación de funciones\n",
    "import math\n",
    "print(math.sqrt(A))"
   ]
  },
  {
   "cell_type": "code",
   "execution_count": 6,
   "id": "9c857014-add5-41a4-8e09-ec7a58da3f0d",
   "metadata": {},
   "outputs": [
    {
     "name": "stdout",
     "output_type": "stream",
     "text": [
      "3\n"
     ]
    }
   ],
   "source": [
    "print(round(math.sqrt(A)))"
   ]
  },
  {
   "cell_type": "markdown",
   "id": "11a790f8-d437-4674-b771-90aa123aa38d",
   "metadata": {},
   "source": [
    "---"
   ]
  },
  {
   "cell_type": "code",
   "execution_count": 8,
   "id": "12116739-293e-49b7-904a-1a3c39af8991",
   "metadata": {},
   "outputs": [],
   "source": [
    "# Cadena de texto\n",
    "saludo = \"Hola\"\n",
    "nombre = \"Juan\""
   ]
  },
  {
   "cell_type": "code",
   "execution_count": 9,
   "id": "919b368a-2661-4200-a2a2-bfb427d0e310",
   "metadata": {},
   "outputs": [
    {
     "name": "stdout",
     "output_type": "stream",
     "text": [
      "Hola Juan\n"
     ]
    }
   ],
   "source": [
    "mensaje = saludo + \" \" + nombre\n",
    "print(mensaje)"
   ]
  }
 ],
 "metadata": {
  "kernelspec": {
   "display_name": "Python 3 (ipykernel)",
   "language": "python",
   "name": "python3"
  },
  "language_info": {
   "codemirror_mode": {
    "name": "ipython",
    "version": 3
   },
   "file_extension": ".py",
   "mimetype": "text/x-python",
   "name": "python",
   "nbconvert_exporter": "python",
   "pygments_lexer": "ipython3",
   "version": "3.12.4"
  }
 },
 "nbformat": 4,
 "nbformat_minor": 5
}
