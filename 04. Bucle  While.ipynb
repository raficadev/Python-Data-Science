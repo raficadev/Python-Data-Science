{
 "cells": [
  {
   "cell_type": "code",
   "execution_count": 2,
   "id": "e3e2342a-f13e-42ea-9a61-5c02c35b31d0",
   "metadata": {},
   "outputs": [
    {
     "name": "stdout",
     "output_type": "stream",
     "text": [
      "0\n",
      "1\n",
      "2\n",
      "3\n",
      "4\n",
      "5\n",
      "6\n",
      "7\n",
      "8\n",
      "9\n",
      "10\n",
      "11\n",
      "Hola\n"
     ]
    }
   ],
   "source": [
    "# Bucle While, en este caso la variable contador \n",
    "# marca el número de iteraciones para finalizar el bucle\n",
    "# con cada iteración contador suma 1 hasta llegar a 12\n",
    "contador = 0                # Fuera del bucle\n",
    "while contador < 12:        # Dentro del bucle\n",
    "    print(contador)         # Dentro del bucle\n",
    "    contador = contador + 1 # Dentro del bucle\n",
    "print(\"Hola\")               # Fuera del bucle"
   ]
  }
 ],
 "metadata": {
  "kernelspec": {
   "display_name": "Python 3 (ipykernel)",
   "language": "python",
   "name": "python3"
  },
  "language_info": {
   "codemirror_mode": {
    "name": "ipython",
    "version": 3
   },
   "file_extension": ".py",
   "mimetype": "text/x-python",
   "name": "python",
   "nbconvert_exporter": "python",
   "pygments_lexer": "ipython3",
   "version": "3.12.4"
  }
 },
 "nbformat": 4,
 "nbformat_minor": 5
}
